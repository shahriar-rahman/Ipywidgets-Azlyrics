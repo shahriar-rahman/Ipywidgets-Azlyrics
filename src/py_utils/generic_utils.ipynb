{
 "cells": [
  {
   "cell_type": "code",
   "execution_count": 2,
   "id": "f89e3e42",
   "metadata": {},
   "outputs": [],
   "source": [
    "import json\n",
    "import pandas as pd\n"
   ]
  },
  {
   "cell_type": "code",
   "execution_count": null,
   "id": "9667c75c",
   "metadata": {},
   "outputs": [],
   "source": [
    "def create_dict(key_list, values_list):\n",
    "    new_dict = {}\n",
    "\n",
    "    for i in range(len(key_list)):\n",
    "        new_dict[key_list[i]] = values_list[i]\n",
    "\n",
    "    return new_dict"
   ]
  },
  {
   "cell_type": "code",
   "execution_count": 1,
   "id": "b688cbaf",
   "metadata": {},
   "outputs": [],
   "source": [
    "def save_json(file_path, data_dict):\n",
    "    try:\n",
    "        with open(file_path, 'w') as file:\n",
    "            json.dump(data_dict, file)\n",
    "\n",
    "    except Exception as exc:\n",
    "        print(f\"! Failed to save data. !\\n\", exc)\n",
    "\n",
    "    else:\n",
    "        print(\"> Json storage is successful.\")"
   ]
  },
  {
   "cell_type": "code",
   "execution_count": null,
   "id": "47b618a0",
   "metadata": {},
   "outputs": [],
   "source": [
    "def save_df(df, path, ext):\n",
    "    try:\n",
    "        if ext == 'csv':\n",
    "            df.to_csv(path, sep=',')\n",
    "\n",
    "        elif ext == 'xlsx':\n",
    "            df.to_excel(path)\n",
    "\n",
    "    except Exception as exc:\n",
    "        print(f\"! Failed to save data. !\\n\", exc)\n",
    "\n",
    "    else:\n",
    "        print(\"> Dataframe storage is successful.\")"
   ]
  },
  {
   "cell_type": "code",
   "execution_count": 3,
   "id": "ee41783e",
   "metadata": {},
   "outputs": [],
   "source": [
    "def lists_debug(tracks, artists, albums, urls):\n",
    "    for index in range(len(tracks)):\n",
    "        print(tracks[index], ' - ', artists[index], ' - ', albums[index], ' - ', urls[index])    \n"
   ]
  },
  {
   "cell_type": "code",
   "execution_count": null,
   "id": "c8a38c6b",
   "metadata": {},
   "outputs": [],
   "source": []
  }
 ],
 "metadata": {
  "kernelspec": {
   "display_name": "Python 3 (ipykernel)",
   "language": "python",
   "name": "python3"
  },
  "language_info": {
   "codemirror_mode": {
    "name": "ipython",
    "version": 3
   },
   "file_extension": ".py",
   "mimetype": "text/x-python",
   "name": "python",
   "nbconvert_exporter": "python",
   "pygments_lexer": "ipython3",
   "version": "3.10.9"
  }
 },
 "nbformat": 4,
 "nbformat_minor": 5
}
