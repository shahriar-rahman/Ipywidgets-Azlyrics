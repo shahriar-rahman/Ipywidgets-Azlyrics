{
 "cells": [
  {
   "cell_type": "code",
   "execution_count": 1,
   "id": "b590daf9",
   "metadata": {},
   "outputs": [],
   "source": [
    "import sqlite3"
   ]
  },
  {
   "cell_type": "code",
   "execution_count": 2,
   "id": "d3e5ed04",
   "metadata": {},
   "outputs": [],
   "source": [
    "def create_connection(db_path):\n",
    "    if db_path:\n",
    "        return sqlite3.connect(db_path)\n"
   ]
  },
  {
   "cell_type": "code",
   "execution_count": 3,
   "id": "67cf4200",
   "metadata": {},
   "outputs": [],
   "source": [
    "def create_cursor(connection):\n",
    "    if connection:\n",
    "        return connection.cursor()\n",
    "    "
   ]
  },
  {
   "cell_type": "code",
   "execution_count": null,
   "id": "fca0a579",
   "metadata": {},
   "outputs": [],
   "source": [
    "def commit_db(connection):\n",
    "    connection.commit()"
   ]
  },
  {
   "cell_type": "code",
   "execution_count": null,
   "id": "5d632886",
   "metadata": {},
   "outputs": [],
   "source": [
    "def close_db(connection):\n",
    "    connection.close()"
   ]
  },
  {
   "cell_type": "code",
   "execution_count": 129,
   "id": "072a9cd9",
   "metadata": {},
   "outputs": [],
   "source": [
    "def create_table_db(*arg, cursor_arg=False, table_name=False):\n",
    "    columns = [i for i in arg]\n",
    "    query = f'''create table if not exists {table_name}('''\n",
    "    \n",
    "    for i, col in enumerate(columns):        \n",
    "        query += col[0]+' '+col[1]\n",
    "        if i != len(columns)-1:\n",
    "            query += ', '\n",
    "        \n",
    "    query += ')'\n",
    "    \n",
    "    try:\n",
    "        cursor_arg.execute(query)\n",
    "        \n",
    "    except Exception as exc:\n",
    "        print(exc)\n",
    "            "
   ]
  },
  {
   "cell_type": "code",
   "execution_count": 128,
   "id": "281f56f2",
   "metadata": {},
   "outputs": [],
   "source": [
    "def insert_values_db(*arg, cursor_arg=False, table_name=False):\n",
    "    values_list = [i for i in arg]\n",
    "    query = f''' insert into {table_name} values ('''\n",
    "    \n",
    "    for i in range(len(values_list)):\n",
    "        query += '?'\n",
    "        if i != len(values_list) - 1:\n",
    "            query += ', '\n",
    "            \n",
    "    query += ') '\n",
    "    \n",
    "    try:\n",
    "        cursor_arg.execute(query, (arg))\n",
    "        \n",
    "    except Exception as exc:\n",
    "        print(exc)\n",
    "    "
   ]
  },
  {
   "cell_type": "code",
   "execution_count": null,
   "id": "3f0fedfa",
   "metadata": {},
   "outputs": [],
   "source": []
  },
  {
   "cell_type": "code",
   "execution_count": null,
   "id": "99738efd",
   "metadata": {},
   "outputs": [],
   "source": []
  },
  {
   "cell_type": "code",
   "execution_count": null,
   "id": "5652e7e9",
   "metadata": {},
   "outputs": [],
   "source": []
  },
  {
   "cell_type": "code",
   "execution_count": 127,
   "id": "4e72e09b",
   "metadata": {},
   "outputs": [
    {
     "name": "stdout",
     "output_type": "stream",
     "text": [
      "> Query Executed: create table if not exists db_table(col1 text, col2 text, col3 text)\n",
      "> Database Table successfully added.\n",
      "> Query Executed:  insert into db_table values (?, ?, ?)  ('x', 'y', 'z')\n",
      "> Values successfully inserted into the Database Table.\n"
     ]
    }
   ],
   "source": [
    "# conn = sqlite3.connect('xxx.db')\n",
    "# cursor = conn.cursor()\n",
    "\n",
    "# create_table_db(['col1', 'text'], ['col2', 'text'], ['col3', 'text'], cursor_arg=cursor, table_name='db_table')\n",
    "\n",
    "# c1 = 'x'\n",
    "# c2 = 'y'\n",
    "# c3 = 'z'\n",
    "\n",
    "# insert_values_db(c1, c2, c3, table_name='db_table')"
   ]
  },
  {
   "cell_type": "code",
   "execution_count": null,
   "id": "a7c57fcb",
   "metadata": {},
   "outputs": [],
   "source": []
  }
 ],
 "metadata": {
  "kernelspec": {
   "display_name": "Python 3 (ipykernel)",
   "language": "python",
   "name": "python3"
  },
  "language_info": {
   "codemirror_mode": {
    "name": "ipython",
    "version": 3
   },
   "file_extension": ".py",
   "mimetype": "text/x-python",
   "name": "python",
   "nbconvert_exporter": "python",
   "pygments_lexer": "ipython3",
   "version": "3.10.9"
  }
 },
 "nbformat": 4,
 "nbformat_minor": 5
}
