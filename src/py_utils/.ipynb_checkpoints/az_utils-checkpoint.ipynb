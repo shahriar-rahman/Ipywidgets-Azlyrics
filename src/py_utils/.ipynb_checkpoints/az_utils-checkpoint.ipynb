{
 "cells": [
  {
   "cell_type": "code",
   "execution_count": 2,
   "id": "a8115ff8",
   "metadata": {},
   "outputs": [],
   "source": [
    "from bs4 import BeautifulSoup\n",
    "import requests\n",
    "import bs4"
   ]
  },
  {
   "cell_type": "code",
   "execution_count": 8,
   "id": "ee49ee70",
   "metadata": {},
   "outputs": [],
   "source": [
    "%run scraping_utils.ipynb"
   ]
  },
  {
   "cell_type": "code",
   "execution_count": 6,
   "id": "408fd62e",
   "metadata": {},
   "outputs": [],
   "source": [
    "def get_discography(find_lists, album_class, track_class, a_key, command):    \n",
    "    command\n",
    "    \n",
    "    \n",
    "    tracks = []\n",
    "    albums = []  \n",
    "    urls = []\n",
    "    \n",
    "    for row_list in find_lists:  \n",
    "        get_class = row_list.get('class')\n",
    "\n",
    "        if get_class == album_class:\n",
    "            current_album = row_list.text\n",
    "\n",
    "        elif get_class == track_class:\n",
    "            track = row_list.text\n",
    "\n",
    "            url_tag = bs4_scrape(row_list, 'find', a_key)        \n",
    "            if url_tag is not None:\n",
    "                url = url_tag.get('href') \n",
    "            else:\n",
    "                url = ''\n",
    "\n",
    "            tracks.append(track)\n",
    "            albums.append(current_album)\n",
    "            urls.append(url)\n",
    "    \n",
    "    return tracks,albums, urls\n",
    "\n",
    "    "
   ]
  },
  {
   "cell_type": "code",
   "execution_count": null,
   "id": "71ec3702",
   "metadata": {},
   "outputs": [],
   "source": []
  }
 ],
 "metadata": {
  "kernelspec": {
   "display_name": "Python 3 (ipykernel)",
   "language": "python",
   "name": "python3"
  },
  "language_info": {
   "codemirror_mode": {
    "name": "ipython",
    "version": 3
   },
   "file_extension": ".py",
   "mimetype": "text/x-python",
   "name": "python",
   "nbconvert_exporter": "python",
   "pygments_lexer": "ipython3",
   "version": "3.10.9"
  }
 },
 "nbformat": 4,
 "nbformat_minor": 5
}
