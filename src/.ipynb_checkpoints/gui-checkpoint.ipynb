{
 "cells": [
  {
   "cell_type": "markdown",
   "id": "2fb5b9a7",
   "metadata": {},
   "source": [
    "<span style=\"font-family:Lucida Sans Unicode; color:#a10a0a; font-size: 25px\"> Load all Artists </span>"
   ]
  },
  {
   "cell_type": "code",
   "execution_count": 1,
   "id": "0df9cf17",
   "metadata": {},
   "outputs": [],
   "source": [
    "%run main.ipynb\n",
    "\n",
    "all_artists = load_artist_from_json()"
   ]
  },
  {
   "cell_type": "markdown",
   "id": "e6b5b5bb",
   "metadata": {},
   "source": [
    "<span style=\"font-family:Lucida Sans Unicode; color:#a10a0a; font-size: 25px\"> Select Artists </span>"
   ]
  },
  {
   "cell_type": "code",
   "execution_count": 2,
   "id": "64fe4de4",
   "metadata": {},
   "outputs": [
    {
     "data": {
      "application/vnd.jupyter.widget-view+json": {
       "model_id": "7cf994c9a6cf417e8100cd26ba553b0f",
       "version_major": 2,
       "version_minor": 0
      },
      "text/plain": [
       "VBox(children=(Output(), HBox(children=(Dropdown(description='Alphabet', layout=Layout(width='300px'), options…"
      ]
     },
     "metadata": {},
     "output_type": "display_data"
    }
   ],
   "source": [
    "%run main.ipynb\n",
    "\n",
    "user_selection = get_artists()"
   ]
  },
  {
   "cell_type": "code",
   "execution_count": 3,
   "id": "7e87ee79",
   "metadata": {},
   "outputs": [
    {
     "data": {
      "text/plain": [
       "['Linkin Park']"
      ]
     },
     "execution_count": 3,
     "metadata": {},
     "output_type": "execute_result"
    }
   ],
   "source": [
    "user_selection"
   ]
  },
  {
   "cell_type": "markdown",
   "id": "9676258f",
   "metadata": {},
   "source": [
    "<span style=\"font-family:Lucida Sans Unicode; color:#a10a0a; font-size: 25px\"> Scrape Artist page </span>"
   ]
  },
  {
   "cell_type": "code",
   "execution_count": 4,
   "id": "73b86847",
   "metadata": {},
   "outputs": [
    {
     "name": "stdout",
     "output_type": "stream",
     "text": [
      "> Database Storage Successful.\n",
      "> Json storage is successful.\n",
      "> Dataframe storage is successful.\n",
      "> Dataframe storage is successful.\n"
     ]
    }
   ],
   "source": [
    "%run main.ipynb\n",
    "\n",
    "start_urls = search_dict(user_selection, all_artists)\n",
    "run_tracks_crawler(start_urls)"
   ]
  },
  {
   "cell_type": "markdown",
   "id": "0bbad46c",
   "metadata": {},
   "source": [
    "<span style=\"font-family:Lucida Sans Unicode; color:#a10a0a; font-size: 25px\"> Select Albums and Tracks </span>"
   ]
  },
  {
   "cell_type": "code",
   "execution_count": 5,
   "id": "99ea6e5f",
   "metadata": {},
   "outputs": [
    {
     "data": {
      "application/vnd.jupyter.widget-view+json": {
       "model_id": "febad5410ff040b3bfa1e8fbfa6bc804",
       "version_major": 2,
       "version_minor": 0
      },
      "text/plain": [
       "VBox(children=(HBox(children=(Dropdown(description='Select Artists', layout=Layout(width='350px'), options=('L…"
      ]
     },
     "metadata": {},
     "output_type": "display_data"
    }
   ],
   "source": [
    "%run main.ipynb\n",
    "\n",
    "discography = load_discography()\n",
    "user_track, user_artist, user_album = get_discography()"
   ]
  },
  {
   "cell_type": "code",
   "execution_count": 6,
   "id": "6e2603c8",
   "metadata": {},
   "outputs": [
    {
     "data": {
      "text/plain": [
       "['Faint', 'What Ive Done', 'Lost In The Echo']"
      ]
     },
     "execution_count": 6,
     "metadata": {},
     "output_type": "execute_result"
    }
   ],
   "source": [
    "user_track "
   ]
  },
  {
   "cell_type": "markdown",
   "id": "1d14e92c",
   "metadata": {},
   "source": [
    "<span style=\"font-family:Lucida Sans Unicode; color:#a10a0a; font-size: 25px\"> Scrape Tracks</span>"
   ]
  },
  {
   "cell_type": "code",
   "execution_count": 7,
   "id": "c03b9280",
   "metadata": {},
   "outputs": [
    {
     "name": "stdout",
     "output_type": "stream",
     "text": [
      "['Faint', 'What Ive Done', 'Lost In The Echo']\n",
      "> Database Storage Successful.\n",
      "> Json storage is successful.\n",
      "> Dataframe storage is successful.\n",
      "> Dataframe storage is successful.\n"
     ]
    }
   ],
   "source": [
    "%run main.ipynb\n",
    "\n",
    "start_urls = generate_urls(user_track)\n",
    "lyrics_scrape(start_urls)"
   ]
  },
  {
   "cell_type": "markdown",
   "id": "4e10611c",
   "metadata": {},
   "source": [
    "<span style=\"font-family:Lucida Sans Unicode; color:#a10a0a; font-size: 25px\"> Select Lyrics </span>"
   ]
  },
  {
   "cell_type": "code",
   "execution_count": 8,
   "id": "ae915f41",
   "metadata": {},
   "outputs": [
    {
     "data": {
      "application/vnd.jupyter.widget-view+json": {
       "model_id": "489fab1e7796475c8c82a99ee85ddd19",
       "version_major": 2,
       "version_minor": 0
      },
      "text/plain": [
       "VBox(children=(HBox(children=(Dropdown(description='Select Tracks', layout=Layout(width='400px'), options=('\"F…"
      ]
     },
     "metadata": {},
     "output_type": "display_data"
    }
   ],
   "source": [
    "%run main.ipynb\n",
    "\n",
    "track_lyrics = load_lyrics()\n",
    "get_lyrics(track_lyrics)"
   ]
  },
  {
   "cell_type": "markdown",
   "id": "ae0780ff",
   "metadata": {},
   "source": [
    "<span style=\"font-family:Lucida Sans Unicode; color:#a10a0a; font-size: 25px\"> Check Database </span>"
   ]
  },
  {
   "cell_type": "code",
   "execution_count": 9,
   "id": "186bec03",
   "metadata": {},
   "outputs": [
    {
     "name": "stdout",
     "output_type": "stream",
     "text": [
      "['\"Gloria\" lyrics', '\"In The Rain\" lyrics', '\"1984\" lyrics', '\"Vertigo\" lyrics', '\"Fast Cars\" lyrics', '\"The Wanderer\" lyrics', '\"Dont Panic\" lyrics', '\"Rock N Roll Damnation\" lyrics', '\"Fly On The Wall\" lyrics', '\"War Machine\" lyrics', '\"Faint\" lyrics', '\"What Ive Done\" lyrics', '\"Lost In The Echo\" lyrics']\n"
     ]
    }
   ],
   "source": [
    "%run main.ipynb\n",
    "\n",
    "db_soundtracks = 'db_soundtracks'\n",
    "soundtrack_table = 'soundtrack_table'\n",
    "\n",
    "db_lyrics = 'db_lyrics'\n",
    "lyrics_table = 'lyrics_table'\n",
    "\n",
    "db_path = '../database/'\n",
    "column_index = 0\n",
    "\n",
    "try:\n",
    "    diagnose_db(db_lyrics, lyrics_table, column_index, db_path)\n",
    "except Exception as exc:\n",
    "    print(exc)\n"
   ]
  },
  {
   "cell_type": "code",
   "execution_count": null,
   "id": "39416e55",
   "metadata": {},
   "outputs": [],
   "source": []
  }
 ],
 "metadata": {
  "kernelspec": {
   "display_name": "Python 3 (ipykernel)",
   "language": "python",
   "name": "python3"
  },
  "language_info": {
   "codemirror_mode": {
    "name": "ipython",
    "version": 3
   },
   "file_extension": ".py",
   "mimetype": "text/x-python",
   "name": "python",
   "nbconvert_exporter": "python",
   "pygments_lexer": "ipython3",
   "version": "3.10.9"
  }
 },
 "nbformat": 4,
 "nbformat_minor": 5
}
