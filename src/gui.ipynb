{
 "cells": [
  {
   "cell_type": "markdown",
   "id": "2fb5b9a7",
   "metadata": {},
   "source": [
    "<span style=\"font-family:Lucida Sans Unicode; color:#a10a0a; font-size: 25px\"> Load all Artists </span>"
   ]
  },
  {
   "cell_type": "code",
   "execution_count": 1,
   "id": "0df9cf17",
   "metadata": {},
   "outputs": [],
   "source": [
    "%run main.ipynb\n",
    "\n",
    "all_artists = load_artist_from_json()"
   ]
  },
  {
   "cell_type": "markdown",
   "id": "e6b5b5bb",
   "metadata": {},
   "source": [
    "<span style=\"font-family:Lucida Sans Unicode; color:#a10a0a; font-size: 25px\"> Select Artists </span>"
   ]
  },
  {
   "cell_type": "code",
   "execution_count": 2,
   "id": "64fe4de4",
   "metadata": {},
   "outputs": [
    {
     "data": {
      "application/vnd.jupyter.widget-view+json": {
       "model_id": "487fc5100cfe445fb423422820220946",
       "version_major": 2,
       "version_minor": 0
      },
      "text/plain": [
       "VBox(children=(Output(), HBox(children=(Dropdown(description='Alphabet', layout=Layout(width='300px'), options…"
      ]
     },
     "metadata": {},
     "output_type": "display_data"
    }
   ],
   "source": [
    "%run main.ipynb\n",
    "\n",
    "user_selection = get_artists()"
   ]
  },
  {
   "cell_type": "code",
   "execution_count": 3,
   "id": "7e87ee79",
   "metadata": {},
   "outputs": [
    {
     "data": {
      "text/plain": [
       "['Coldplay', 'Living Colour']"
      ]
     },
     "execution_count": 3,
     "metadata": {},
     "output_type": "execute_result"
    }
   ],
   "source": [
    "user_selection"
   ]
  },
  {
   "cell_type": "markdown",
   "id": "9676258f",
   "metadata": {},
   "source": [
    "<span style=\"font-family:Lucida Sans Unicode; color:#a10a0a; font-size: 25px\"> Scrape Artist page </span>"
   ]
  },
  {
   "cell_type": "code",
   "execution_count": 4,
   "id": "73b86847",
   "metadata": {},
   "outputs": [
    {
     "name": "stdout",
     "output_type": "stream",
     "text": [
      "Target located inside the Database.\n",
      " Skipping the Scraping Procedure.\n",
      "Target located inside the Database.\n",
      " Skipping the Scraping Procedure.\n"
     ]
    }
   ],
   "source": [
    "%run main.ipynb\n",
    "\n",
    "start_urls = search_dict(user_selection, all_artists)\n",
    "run_tracks_crawler(start_urls, user_selection)"
   ]
  },
  {
   "cell_type": "markdown",
   "id": "0bbad46c",
   "metadata": {},
   "source": [
    "<span style=\"font-family:Lucida Sans Unicode; color:#a10a0a; font-size: 25px\"> Select Albums and Tracks </span>"
   ]
  },
  {
   "cell_type": "code",
   "execution_count": 15,
   "id": "99ea6e5f",
   "metadata": {},
   "outputs": [
    {
     "data": {
      "application/vnd.jupyter.widget-view+json": {
       "model_id": "3a904d94138c43b1be9d1d1b5f42f03f",
       "version_major": 2,
       "version_minor": 0
      },
      "text/plain": [
       "VBox(children=(HBox(children=(Dropdown(description='Select Artists', layout=Layout(width='350px'), options=('C…"
      ]
     },
     "metadata": {},
     "output_type": "display_data"
    }
   ],
   "source": [
    "%run main.ipynb\n",
    "\n",
    "discography = load_discography()\n",
    "user_track, user_artist, user_album = get_discography(user_selection)"
   ]
  },
  {
   "cell_type": "code",
   "execution_count": 80,
   "id": "6e2603c8",
   "metadata": {},
   "outputs": [
    {
     "data": {
      "text/plain": [
       "['Bigger Stronger', 'Dont Panic']"
      ]
     },
     "execution_count": 80,
     "metadata": {},
     "output_type": "execute_result"
    }
   ],
   "source": [
    "user_track "
   ]
  },
  {
   "cell_type": "markdown",
   "id": "1d14e92c",
   "metadata": {},
   "source": [
    "<span style=\"font-family:Lucida Sans Unicode; color:#a10a0a; font-size: 25px\"> Scrape Tracks</span>"
   ]
  },
  {
   "cell_type": "code",
   "execution_count": 95,
   "id": "c03b9280",
   "metadata": {},
   "outputs": [
    {
     "name": "stdout",
     "output_type": "stream",
     "text": [
      "> Database Storage Successful.\n",
      "> Json storage is successful.\n",
      "> Dataframe storage is successful.\n",
      "> Dataframe storage is successful.\n",
      "> Database Storage Successful.\n",
      "> Json storage is successful.\n",
      "> Dataframe storage is successful.\n",
      "> Dataframe storage is successful.\n"
     ]
    }
   ],
   "source": [
    "%run main.ipynb\n",
    "%run py_utils/sqlite_utils.ipynb\n",
    "\n",
    "# start_urls = generate_urls(user_track)\n",
    "\n",
    "# start_urls = []   \n",
    "root_link = 'https://www.azlyrics.com'\n",
    "soundtrack_table = 'soundtrack_table'\n",
    "db_soundtrack_path = f'../database/db_soundtracks.db' \n",
    "\n",
    "for track in user_track:    \n",
    "    query_url = f\"\"\"select distinct urls from {soundtrack_table} where tracks='{track}' \"\"\"\n",
    "    db_data = get_data_from_db(db_soundtrack_path, query_url)\n",
    "    \n",
    "    for data in db_data:\n",
    "        link = data[0]\n",
    "        if root_link not in link:\n",
    "            link = root_link+link\n",
    "        lyrics_scrape([link], track)"
   ]
  },
  {
   "cell_type": "markdown",
   "id": "4e10611c",
   "metadata": {},
   "source": [
    "<span style=\"font-family:Lucida Sans Unicode; color:#a10a0a; font-size: 25px\"> Select Lyrics </span>"
   ]
  },
  {
   "cell_type": "code",
   "execution_count": 96,
   "id": "ae915f41",
   "metadata": {},
   "outputs": [
    {
     "data": {
      "application/vnd.jupyter.widget-view+json": {
       "model_id": "3c766a6e1fa745fab00c1952dd92e5a3",
       "version_major": 2,
       "version_minor": 0
      },
      "text/plain": [
       "VBox(children=(HBox(children=(Dropdown(description='Select Tracks', layout=Layout(width='400px'), options=('Bi…"
      ]
     },
     "metadata": {},
     "output_type": "display_data"
    },
    {
     "name": "stdout",
     "output_type": "stream",
     "text": [
      "\"Bigger Stronger\" lyrics\n",
      "select * from lyrics_table\n",
      "['I wanna be bigger, stronger, drive a faster car\\nTo take me anywhere in seconds\\nTo take me anywhere I wanna go\\nAnd drive around a faster car\\nI will settle for nothing less\\nI will settle for nothing less\\n\\nI wanna be bigger, stronger, drive a faster car\\nAt the touch of a button\\nI can go anywhere I wanna go\\nAnd drive around a faster car\\nI will settle for nothing less\\nI will settle for nothing less\\n\\nI think I want to change my altitude\\nI think I want to change my oxygen\\nI think I want to change my air\\nMy atmosphere\\nI wanna recharge\\n\\nI wanna be bigger, stronger, drive a faster car\\nTo take me anywhere in seconds\\nTo take me anywhere I wanna go\\nAnd drive around my faster car\\nI will settle for nothing less\\nI will settle for nothing less\\n\\nI think I need to change my attitude\\nI think I want to change my oxygen\\nI think I want to change my air\\nMy atmosphere\\nI wanna recharge\\n\\nBigger and better\\nBigger and better\\nBigger and better\\nBigger and better\\nBigger, stronger, drive a faster car\\nAt the touch of a button\\nI can go anywhere I wanna go']\n",
      "Dont Panic\n",
      "\"Dont Panic\" lyrics\n",
      "select * from lyrics_table\n",
      "[\"Bones sinking like stones\\nAll that we fought for\\nHomes, places we've grown\\nAll of us are done for\\n\\nAnd we live in a beautiful world\\nYeah we do, yeah we do\\nWe live in a beautiful world\\n\\nBones sinking like stones\\nAll that we fought for\\nAnd homes, places we've grown\\nAll of us are done for\\n\\nAnd we live in a beautiful world\\nYeah we do, yeah we do\\nWe live in a beautiful world\\n\\nAnd we live in a beautiful world\\nYeah we do, yeah we do\\nWe live in a beautiful world\\n\\nOh, all that I know\\nThere's nothing here to run from\\n'Cause yeah everybody here's got somebody to lean on\", \"Bones sinking like stones\\nAll that we fought for\\nHomes, places we've grown\\nAll of us are done for\\n\\nAnd we live in a beautiful world\\nYeah we do, yeah we do\\nWe live in a beautiful world\\n\\nBones sinking like stones\\nAll that we fought for\\nAnd homes, places we've grown\\nAll of us are done for\\n\\nAnd we live in a beautiful world\\nYeah we do, yeah we do\\nWe live in a beautiful world\\n\\nAnd we live in a beautiful world\\nYeah we do, yeah we do\\nWe live in a beautiful world\\n\\nOh, all that I know\\nThere's nothing here to run from\\n'Cause yeah everybody here's got somebody to lean on\"]\n"
     ]
    }
   ],
   "source": [
    "%run main.ipynb\n",
    "\n",
    "track_lyrics = load_lyrics()\n",
    "get_lyrics(track_lyrics, user_track)"
   ]
  },
  {
   "cell_type": "markdown",
   "id": "ae0780ff",
   "metadata": {},
   "source": [
    "<span style=\"font-family:Lucida Sans Unicode; color:#a10a0a; font-size: 25px\"> Check Database </span>"
   ]
  },
  {
   "cell_type": "code",
   "execution_count": 90,
   "id": "186bec03",
   "metadata": {},
   "outputs": [
    {
     "name": "stdout",
     "output_type": "stream",
     "text": [
      "['\\nAvenged Sevenfold Lyrics\\n', '\\nU2 Lyrics\\n', '\\nMetallica Lyrics\\n', '\\nColdplay Lyrics\\n', '\\nLimp Bizkit Lyrics\\n', '\\nLinkin Park Lyrics\\n', '\\nXero Lyrics\\n', '\\nGorillaz Lyrics\\n', '\\nLed Zeppelin Lyrics\\n', '\\nAudioslave Lyrics\\n', '\\nLiving Colour Lyrics\\n']\n"
     ]
    }
   ],
   "source": [
    "%run main.ipynb\n",
    "\n",
    "db_soundtracks = 'db_soundtracks'\n",
    "soundtrack_table = 'soundtrack_table'\n",
    "\n",
    "db_lyrics = 'db_lyrics'\n",
    "lyrics_table = 'lyrics_table'\n",
    "\n",
    "db_path = '../database/'\n",
    "column_index = 2\n",
    "\n",
    "try:\n",
    "    diagnose_db(db_lyrics, lyrics_table, column_index, db_path)\n",
    "except Exception as exc:\n",
    "    print(exc)\n"
   ]
  },
  {
   "cell_type": "code",
   "execution_count": null,
   "id": "39416e55",
   "metadata": {},
   "outputs": [],
   "source": []
  },
  {
   "cell_type": "code",
   "execution_count": 91,
   "id": "4110f4f8",
   "metadata": {},
   "outputs": [],
   "source": [
    "track_db = '../database/db_soundtracks.db'\n",
    "track_table_db = 'soundtrack_table'\n",
    "\n"
   ]
  },
  {
   "cell_type": "code",
   "execution_count": null,
   "id": "33494fcf",
   "metadata": {},
   "outputs": [],
   "source": []
  }
 ],
 "metadata": {
  "kernelspec": {
   "display_name": "Python 3 (ipykernel)",
   "language": "python",
   "name": "python3"
  },
  "language_info": {
   "codemirror_mode": {
    "name": "ipython",
    "version": 3
   },
   "file_extension": ".py",
   "mimetype": "text/x-python",
   "name": "python",
   "nbconvert_exporter": "python",
   "pygments_lexer": "ipython3",
   "version": "3.10.9"
  }
 },
 "nbformat": 4,
 "nbformat_minor": 5
}
