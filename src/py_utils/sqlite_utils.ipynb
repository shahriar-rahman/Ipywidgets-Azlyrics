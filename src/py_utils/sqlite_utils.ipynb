{
 "cells": [
  {
   "cell_type": "markdown",
   "id": "b8870f38",
   "metadata": {},
   "source": [
    "<span style=\"font-family:Lucida Sans Unicode; color:#a10a0a; font-size: 25px\"> Package Import </span>"
   ]
  },
  {
   "cell_type": "code",
   "execution_count": 1,
   "id": "b590daf9",
   "metadata": {},
   "outputs": [],
   "source": [
    "import sqlite3"
   ]
  },
  {
   "cell_type": "markdown",
   "id": "c0c4b798",
   "metadata": {},
   "source": [
    "<span style=\"font-family:Lucida Sans Unicode; color:#a10a0a; font-size: 25px\"> Establish SQlite Connection </span>"
   ]
  },
  {
   "cell_type": "code",
   "execution_count": 2,
   "id": "d3e5ed04",
   "metadata": {},
   "outputs": [],
   "source": [
    "def create_connection(db_path):\n",
    "    if db_path:\n",
    "        return sqlite3.connect(db_path)\n"
   ]
  },
  {
   "cell_type": "markdown",
   "id": "725551d5",
   "metadata": {},
   "source": [
    "<span style=\"font-family:Lucida Sans Unicode; color:#a10a0a; font-size: 25px\"> Initialize Cursor </span>"
   ]
  },
  {
   "cell_type": "code",
   "execution_count": 3,
   "id": "67cf4200",
   "metadata": {},
   "outputs": [],
   "source": [
    "def create_cursor(connection):\n",
    "    if connection:\n",
    "        return connection.cursor()\n",
    "    "
   ]
  },
  {
   "cell_type": "markdown",
   "id": "3b847205",
   "metadata": {},
   "source": [
    "<span style=\"font-family:Lucida Sans Unicode; color:#a10a0a; font-size: 25px\"> Commit to Database </span>"
   ]
  },
  {
   "cell_type": "code",
   "execution_count": null,
   "id": "fca0a579",
   "metadata": {},
   "outputs": [],
   "source": [
    "def commit_db(connection):\n",
    "    connection.commit()"
   ]
  },
  {
   "cell_type": "markdown",
   "id": "66f9a163",
   "metadata": {},
   "source": [
    "<span style=\"font-family:Lucida Sans Unicode; color:#a10a0a; font-size: 25px\"> Close Database Process </span>"
   ]
  },
  {
   "cell_type": "code",
   "execution_count": null,
   "id": "5d632886",
   "metadata": {},
   "outputs": [],
   "source": [
    "def close_db(connection):\n",
    "    connection.close()"
   ]
  },
  {
   "cell_type": "markdown",
   "id": "fcc904d9",
   "metadata": {},
   "source": [
    "<span style=\"font-family:Lucida Sans Unicode; color:#a10a0a; font-size: 25px\"> Create a Table in Database </span>"
   ]
  },
  {
   "cell_type": "code",
   "execution_count": 129,
   "id": "072a9cd9",
   "metadata": {},
   "outputs": [],
   "source": [
    "def create_table_db(*arg, cursor_arg=False, table_name=False):\n",
    "    columns = [i for i in arg]\n",
    "    query = f'''create table if not exists {table_name}('''\n",
    "    \n",
    "    for i, col in enumerate(columns):        \n",
    "        query += col[0]+' '+col[1]\n",
    "        if i != len(columns)-1:\n",
    "            query += ', '\n",
    "        \n",
    "    query += ')'\n",
    "    \n",
    "    try:\n",
    "        cursor_arg.execute(query)\n",
    "        \n",
    "    except Exception as exc:\n",
    "        print(exc)\n",
    "            "
   ]
  },
  {
   "cell_type": "markdown",
   "id": "63298dd0",
   "metadata": {},
   "source": [
    "<span style=\"font-family:Lucida Sans Unicode; color:#a10a0a; font-size: 25px\"> Insert values in Table </span>"
   ]
  },
  {
   "cell_type": "code",
   "execution_count": 128,
   "id": "281f56f2",
   "metadata": {},
   "outputs": [],
   "source": [
    "def insert_values_db(*arg, cursor_arg=False, table_name=False):\n",
    "    values_list = [i for i in arg]\n",
    "    query = f''' insert into {table_name} values ('''\n",
    "    \n",
    "    for i in range(len(values_list)):\n",
    "        query += '?'\n",
    "        if i != len(values_list) - 1:\n",
    "            query += ', '\n",
    "            \n",
    "    query += ') '\n",
    "    \n",
    "    try:\n",
    "        cursor_arg.execute(query, (arg))\n",
    "        \n",
    "    except Exception as exc:\n",
    "        print(exc)\n",
    "    "
   ]
  },
  {
   "cell_type": "markdown",
   "id": "3ce8b9cd",
   "metadata": {},
   "source": [
    "<span style=\"font-family:Lucida Sans Unicode; color:#a10a0a; font-size: 25px\"> Retrieve from Database </span>"
   ]
  },
  {
   "cell_type": "code",
   "execution_count": 1,
   "id": "3f0fedfa",
   "metadata": {},
   "outputs": [],
   "source": [
    "def get_data_from_db(target_index, match_clause, db_path, db_table, column):\n",
    "    list_data = []\n",
    "    connection = create_connection(db_path)\n",
    "    cursor = create_cursor(connection)\n",
    "    data = cursor.execute(f\"\"\"select distinct * from {db_table} where {column}='{match_clause}' \"\"\")\n",
    "\n",
    "    if isinstance(target_index, int):\n",
    "        for i in data:\n",
    "            if i[target_index] not in list_data:\n",
    "                list_data.append(i[target_index])\n",
    "\n",
    "        return list_data    \n",
    "    "
   ]
  },
  {
   "cell_type": "markdown",
   "id": "8465b005",
   "metadata": {},
   "source": [
    "<span style=\"font-family:Lucida Sans Unicode; color:#a10a0a; font-size: 25px\"> Search a Database </span>"
   ]
  },
  {
   "cell_type": "code",
   "execution_count": null,
   "id": "60d5b7ce",
   "metadata": {},
   "outputs": [],
   "source": [
    "def search_data_from_db(match_clause, db_path, db_table, column):\n",
    "    connection = create_connection(db_path)\n",
    "    cursor = create_cursor(connection)\n",
    "    data = cursor.execute(f\"\"\"select distinct {column} from {db_table}\"\"\")    \n",
    "    \n",
    "    for i in data:\n",
    "        if i[0] == match_clause:\n",
    "            print(\"Target located inside the Database.\")\n",
    "            close_db(connection)\n",
    "            return 1\n",
    "\n",
    "    close_db(connection)\n",
    "    return 0\n"
   ]
  },
  {
   "cell_type": "code",
   "execution_count": null,
   "id": "c7226ebb",
   "metadata": {},
   "outputs": [],
   "source": []
  }
 ],
 "metadata": {
  "kernelspec": {
   "display_name": "Python 3 (ipykernel)",
   "language": "python",
   "name": "python3"
  },
  "language_info": {
   "codemirror_mode": {
    "name": "ipython",
    "version": 3
   },
   "file_extension": ".py",
   "mimetype": "text/x-python",
   "name": "python",
   "nbconvert_exporter": "python",
   "pygments_lexer": "ipython3",
   "version": "3.10.9"
  }
 },
 "nbformat": 4,
 "nbformat_minor": 5
}
