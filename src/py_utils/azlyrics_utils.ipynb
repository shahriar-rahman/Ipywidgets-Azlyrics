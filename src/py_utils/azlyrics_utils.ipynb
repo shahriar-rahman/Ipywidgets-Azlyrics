{
 "cells": [
  {
   "cell_type": "markdown",
   "id": "cc8d1a0b",
   "metadata": {},
   "source": [
    "<span style=\"font-family:Lucida Sans Unicode; color:#a10a0a; font-size: 25px\"> Package Import </span>"
   ]
  },
  {
   "cell_type": "code",
   "execution_count": 1,
   "id": "03b48fbe",
   "metadata": {},
   "outputs": [],
   "source": [
    "import pandas as pd\n",
    "from bs4 import BeautifulSoup\n",
    "import ipywidgets as widgets\n",
    "from IPython.display import display, clear_output"
   ]
  },
  {
   "cell_type": "markdown",
   "id": "99940e32",
   "metadata": {},
   "source": [
    "<span style=\"font-family:Lucida Sans Unicode; color:#a10a0a; font-size: 25px\"> Search and Retrieve URLs for the designated Artists </span>"
   ]
  },
  {
   "cell_type": "code",
   "execution_count": null,
   "id": "773d5574",
   "metadata": {},
   "outputs": [],
   "source": [
    "def match_artists(user_selection, all_artists):\n",
    "    start_urls = [] \n",
    "    root_url = 'https://www.azlyrics.com/'\n",
    "    \n",
    "    for artist in user_selection:\n",
    "        if artist in all_artists['Artists']:\n",
    "            if root_url in all_artists['Artists'][artist]:\n",
    "                start_urls.append(all_artists['Artists'][artist])\n",
    "                \n",
    "            else:\n",
    "                start_urls.append(root_url+all_artists['Artists'][artist])\n",
    "    \n",
    "        else:\n",
    "            print(f'{artist} does not exist in the library.')\n",
    "            input_artist.remove(artist)\n",
    "    return start_urls\n",
    "    "
   ]
  },
  {
   "cell_type": "markdown",
   "id": "97256b5e",
   "metadata": {},
   "source": [
    "<span style=\"font-family:Lucida Sans Unicode; color:#a10a0a; font-size: 25px\"> Acquire Albums for the Artists </span>"
   ]
  },
  {
   "cell_type": "code",
   "execution_count": 1,
   "id": "d65fff1c",
   "metadata": {},
   "outputs": [],
   "source": [
    "def get_albums(data_dict, selected_artist):\n",
    "    all_albums = []\n",
    "\n",
    "    if selected_artist:\n",
    "        for i, artist in enumerate(data_dict['Artists']):\n",
    "            if artist == selected_artist:\n",
    "                all_albums.append(data_dict['Albums'][i])\n",
    "\n",
    "    albums = set(all_albums)\n",
    "    return list(albums)\n"
   ]
  },
  {
   "cell_type": "markdown",
   "id": "a98163c0",
   "metadata": {},
   "source": [
    "<span style=\"font-family:Lucida Sans Unicode; color:#a10a0a; font-size: 25px\"> Acquire Tracks for the Albums </span>"
   ]
  },
  {
   "cell_type": "code",
   "execution_count": null,
   "id": "b7063b80",
   "metadata": {},
   "outputs": [],
   "source": [
    "def get_tracks(data_dict, selected_albums):\n",
    "    all_tracks = []\n",
    "\n",
    "    if selected_albums:\n",
    "        for i, album in enumerate(data_dict['Albums']):\n",
    "            if album == selected_albums:\n",
    "                all_tracks.append(data_dict['Tracks'][i])\n",
    "\n",
    "    tracks = set(all_tracks)\n",
    "    return list(tracks)"
   ]
  },
  {
   "cell_type": "markdown",
   "id": "3006e189",
   "metadata": {},
   "source": [
    "<span style=\"font-family:Lucida Sans Unicode; color:#a10a0a; font-size: 25px\"> Search and Retrieve URLs for the designated Tracks </span>"
   ]
  },
  {
   "cell_type": "code",
   "execution_count": null,
   "id": "cc6a4567",
   "metadata": {},
   "outputs": [],
   "source": [
    "def get_url(data_dict, user_track, user_artist, user_album): \n",
    "    root_link = 'https://www.azlyrics.com'\n",
    "    \n",
    "    for i, dict_track in enumerate(data_dict['Tracks']):\n",
    "        if [user_track, user_artist, user_album] == [dict_track, data_dict['Artists'][i], data_dict['Albums'][i]]:\n",
    "            if root_link in discography['URLs'][i]:\n",
    "                return discography['URLs'][i]\n",
    "            \n",
    "            else: \n",
    "                return root_link+discography['URLs'][i]     \n",
    "    "
   ]
  },
  {
   "cell_type": "markdown",
   "id": "7852f56d",
   "metadata": {},
   "source": [
    "<span style=\"font-family:Lucida Sans Unicode; color:#a10a0a; font-size: 25px\"> Search and Display Lyrics from Dataset </span>"
   ]
  },
  {
   "cell_type": "code",
   "execution_count": 1,
   "id": "e43eae30",
   "metadata": {},
   "outputs": [],
   "source": [
    "def get_track_lyrics_dataset(output, track_lyrics, selected_track):\n",
    "    for i, track in enumerate(track_lyrics['Tracks']):\n",
    "        if track == selected_track:\n",
    "            with output:\n",
    "                output.clear_output()\n",
    "                print(track_lyrics['Tracks'][i], '\\n')\n",
    "                print(track_lyrics['Artists'][i], '\\n')                    \n",
    "                print(track_lyrics['Albums'][i], '\\n')                   \n",
    "                print(track_lyrics['Lyrics'][i], '\\n')                  \n",
    "                print(track_lyrics['Credits'][i], '\\n')\n"
   ]
  },
  {
   "cell_type": "markdown",
   "id": "6604f24d",
   "metadata": {},
   "source": [
    "<span style=\"font-family:Lucida Sans Unicode; color:#a10a0a; font-size: 25px\"> Search and Display Lyrics from Database </span>"
   ]
  },
  {
   "cell_type": "code",
   "execution_count": null,
   "id": "cd7fd49e",
   "metadata": {},
   "outputs": [],
   "source": [
    "def get_track_lyrics_database(arg_list):\n",
    "    tracks = get_data_from_db(arg_list[0][0], arg_list[1], arg_list[2], arg_list[3], arg_list[4]) \n",
    "    lyrics = get_data_from_db(arg_list[0][1], arg_list[1], arg_list[2], arg_list[3], arg_list[4]) \n",
    "    artists = get_data_from_db(arg_list[0][2], arg_list[1], arg_list[2], arg_list[3], arg_list[4]) \n",
    "    albums = get_data_from_db(arg_list[0][3], arg_list[1], arg_list[2], arg_list[3], arg_list[4]) \n",
    "    credits = get_data_from_db(arg_list[0][4], arg_list[1], arg_list[2], arg_list[3], arg_list[4]) \n",
    "    \n",
    "    return tracks, artists, lyrics, albums, credits  \n",
    "    "
   ]
  },
  {
   "cell_type": "code",
   "execution_count": null,
   "id": "0522d99c",
   "metadata": {},
   "outputs": [],
   "source": []
  }
 ],
 "metadata": {
  "kernelspec": {
   "display_name": "Python 3 (ipykernel)",
   "language": "python",
   "name": "python3"
  },
  "language_info": {
   "codemirror_mode": {
    "name": "ipython",
    "version": 3
   },
   "file_extension": ".py",
   "mimetype": "text/x-python",
   "name": "python",
   "nbconvert_exporter": "python",
   "pygments_lexer": "ipython3",
   "version": "3.10.9"
  }
 },
 "nbformat": 4,
 "nbformat_minor": 5
}
