{
 "cells": [
  {
   "cell_type": "code",
   "execution_count": null,
   "id": "383f0ddc",
   "metadata": {},
   "outputs": [],
   "source": [
    "def get_albums(selected_artist):\n",
    "    all_albums = []\n",
    "\n",
    "    for i, x in enumerate(discography['Artists']):\n",
    "        if x == selected_artist:\n",
    "            all_albums.append(discography['Albums'][i])\n",
    "\n",
    "    albums = set(all_albums)\n",
    "    return list(albums)\n"
   ]
  },
  {
   "cell_type": "code",
   "execution_count": null,
   "id": "d92ffa97",
   "metadata": {},
   "outputs": [],
   "source": [
    "def get_tracks(selected_albums):\n",
    "    all_tracks = []\n",
    "\n",
    "    for i, x in enumerate(discography['Albums']):\n",
    "        if x == selected_albums:\n",
    "            all_tracks.append(discography['Tracks'][i])\n",
    "\n",
    "    tracks = set(all_tracks)\n",
    "    return list(tracks)"
   ]
  }
 ],
 "metadata": {
  "kernelspec": {
   "display_name": "Python 3 (ipykernel)",
   "language": "python",
   "name": "python3"
  },
  "language_info": {
   "codemirror_mode": {
    "name": "ipython",
    "version": 3
   },
   "file_extension": ".py",
   "mimetype": "text/x-python",
   "name": "python",
   "nbconvert_exporter": "python",
   "pygments_lexer": "ipython3",
   "version": "3.10.9"
  }
 },
 "nbformat": 4,
 "nbformat_minor": 5
}
