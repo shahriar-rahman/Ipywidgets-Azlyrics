{
 "cells": [
  {
   "cell_type": "markdown",
   "id": "bbe5e19c",
   "metadata": {},
   "source": [
    "<span style=\"font-family:Lucida Sans Unicode; color:#a10a0a; font-size: 25px\"> Import Package </span>"
   ]
  },
  {
   "cell_type": "code",
   "execution_count": 2,
   "id": "dabdcac9",
   "metadata": {},
   "outputs": [],
   "source": [
    "import requests\n",
    "from bs4 import BeautifulSoup\n"
   ]
  },
  {
   "cell_type": "markdown",
   "id": "d9dac3e2",
   "metadata": {},
   "source": [
    "<span style=\"font-family:Lucida Sans Unicode; color:#a10a0a; font-size: 25px\"> Crawl and Scrape Lyrics </span>"
   ]
  },
  {
   "cell_type": "code",
   "execution_count": 26,
   "id": "63e65f8d",
   "metadata": {},
   "outputs": [],
   "source": [
    "%run py_utils/scraping_utils.ipynb\n",
    "%run py_utils/generic_utils.ipynb\n",
    "\n",
    "def lyrics_crawler(start_urls):\n",
    "    track_list = []\n",
    "    lyrics_list = []\n",
    "    artist_list = []\n",
    "    album_list = []\n",
    "    credit_list = []\n",
    "    \n",
    "    db_flag = 1\n",
    "    db_table = 'lyrics_table'\n",
    "    db_path = '../database/db_lyrics.db'\n",
    "    connection = create_connection(db_path)\n",
    "    cursor = create_cursor(connection)    \n",
    "    create_table_db(['tracks', 'text'], ['lyrics', 'text'], ['artists', 'text'], ['albums', 'text'], \n",
    "                    ['credits', 'text'], cursor_arg=cursor, table_name=db_table)\n",
    "    \n",
    "    div_key = 'div'\n",
    "    credits_attr = {'class': 'smt'}    \n",
    "    table_attr = {'class': 'col-xs-12'}\n",
    "    artist_attr = {'class': 'lyricsh'}\n",
    "    track_attr = {'class': 'div-share'}\n",
    "    album_attr = {'class': 'songinalbum_title'}    \n",
    "    \n",
    "    for url in start_urls:\n",
    "        req = requests.get(url)\n",
    "        soup = BeautifulSoup(req.text, 'lxml')        \n",
    "        \n",
    "        find_table = bs4_scrape(soup, 'find', div_key, attr=table_attr)        \n",
    "        find_lists = bs4_scrape(find_table, 'findAll', div_key)\n",
    "        find_credits = bs4_scrape(find_table, 'findAll', div_key, attr=credits_attr)    \n",
    "        \n",
    "        track = ''\n",
    "        track_title = bs4_scrape(soup, 'findAll', div_key, attr=track_attr)\n",
    "        for index in track_title:\n",
    "            if index.text.strip() != '':\n",
    "                track = index.text\n",
    "                track = track.replace(\"'\", \"\")\n",
    "                track_list.append(track)            \n",
    "\n",
    "        lyrics = ''\n",
    "        for table in find_lists:    \n",
    "            if table.get('class') is None:\n",
    "                lyrics_text = table.text.strip()                \n",
    "                lyrics += lyrics_text \n",
    "                \n",
    "        lyrics_list.append(lyrics)\n",
    "                \n",
    "        artist_title = bs4_scrape(find_table, 'find', div_key,  attr=artist_attr).text\n",
    "        artist_list.append(artist_title)\n",
    "        \n",
    "        album_title = bs4_scrape(soup, 'find', div_key, attr=album_attr).text\n",
    "        album_list.append(album_title)\n",
    "\n",
    "        creditors = ''\n",
    "        for index in find_credits:\n",
    "            creditors += index.text.strip()\n",
    "        credit_list.append(creditors) \n",
    "        \n",
    "        try:\n",
    "            insert_values_db(track, lyrics, artist_title, album_title, creditors, cursor_arg=cursor, table_name=db_table)\n",
    "            connection.commit()\n",
    "\n",
    "        except Exception as exc:\n",
    "            db_flag = 0\n",
    "            print(exc)       \n",
    "    \n",
    "    if db_flag == 1:\n",
    "        print(\"> Database Storage Successful.\")    \n",
    "\n",
    "    json_file_path = '../datasets/lyrics_data.json'\n",
    "    excel_file_path = '../datasets/lyrics_data.xlsx'\n",
    "    csv_file_path = '../datasets/lyrics_data.csv'\n",
    "\n",
    "    key_list = ['Tracks', 'Lyrics', 'Artists', 'Albums', 'Credits']\n",
    "    values_list = [track_list, lyrics_list, artist_list, album_list, credit_list]\n",
    "    lyrics_info_dict = create_dict(key_list, values_list)\n",
    "    df = pd.DataFrame(lyrics_info_dict, columns=key_list)\n",
    "\n",
    "    save_json(json_file_path, lyrics_info_dict)\n",
    "    save_df(df, excel_file_path, 'xlsx')\n",
    "    save_df(df, csv_file_path, 'csv')\n",
    "    connection.close()\n"
   ]
  },
  {
   "cell_type": "code",
   "execution_count": null,
   "id": "2fa6d4a5",
   "metadata": {},
   "outputs": [],
   "source": []
  }
 ],
 "metadata": {
  "kernelspec": {
   "display_name": "Python 3 (ipykernel)",
   "language": "python",
   "name": "python3"
  },
  "language_info": {
   "codemirror_mode": {
    "name": "ipython",
    "version": 3
   },
   "file_extension": ".py",
   "mimetype": "text/x-python",
   "name": "python",
   "nbconvert_exporter": "python",
   "pygments_lexer": "ipython3",
   "version": "3.10.9"
  }
 },
 "nbformat": 4,
 "nbformat_minor": 5
}
