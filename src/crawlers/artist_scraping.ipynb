{
 "cells": [
  {
   "cell_type": "markdown",
   "id": "d544c7a7",
   "metadata": {},
   "source": [
    "<span style=\"font-family:Lucida Sans Unicode; color:#a10a0a; font-size: 25px\"> Scrape Artists from URLs  </span>"
   ]
  },
  {
   "cell_type": "code",
   "execution_count": null,
   "id": "e253aa6e",
   "metadata": {},
   "outputs": [],
   "source": [
    "from bs4 import BeautifulSoup\n",
    "import requests\n",
    "import string\n",
    "import time\n",
    "import pandas as pd\n",
    "%run py_utils/scraping_utils.ipynb\n",
    "\n",
    "def get_artists():\n",
    "    artist_dict = {}\n",
    "    root_url = \"https://www.azlyrics.com/\"    \n",
    "    start_urls = [\"{}.html\".format(root_url+letter) for letter in string.ascii_lowercase]    \n",
    "    start_urls.append(\"{}19.html\".format(root_url))\n",
    "    \n",
    "    artists_tag = \"div\"\n",
    "    artists_class = {\"class\":\"artist-col\"}\n",
    "    \n",
    "    for url in start_urls:\n",
    "        print(\">> Scraping URL: \", url)        \n",
    "        soup = get_request(url)        \n",
    "        artists_cols = soup.findAll(artists_tag, artists_class)\n",
    "        \n",
    "        for col in artists_cols:\n",
    "            artists = col.findAll(\"a\")            \n",
    "            for artist in artists: \n",
    "                artist_dict[artist.text] = (lambda url: root_url+url if root_url not in url else url)(artist.get('href'))   \n",
    "        time.sleep(10)\n",
    "    return artist_dict\n"
   ]
  }
 ],
 "metadata": {
  "kernelspec": {
   "display_name": "Python 3 (ipykernel)",
   "language": "python",
   "name": "python3"
  },
  "language_info": {
   "codemirror_mode": {
    "name": "ipython",
    "version": 3
   },
   "file_extension": ".py",
   "mimetype": "text/x-python",
   "name": "python",
   "nbconvert_exporter": "python",
   "pygments_lexer": "ipython3",
   "version": "3.10.9"
  }
 },
 "nbformat": 4,
 "nbformat_minor": 5
}
