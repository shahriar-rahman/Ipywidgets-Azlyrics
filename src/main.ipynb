{
 "cells": [
  {
   "cell_type": "markdown",
   "id": "ba43e812",
   "metadata": {},
   "source": [
    "<span style=\"font-family:Lucida Sans Unicode; color:#a10a0a; font-size: 25px\"> Package Import </span>"
   ]
  },
  {
   "cell_type": "code",
   "execution_count": 210,
   "id": "1cb446d0",
   "metadata": {},
   "outputs": [],
   "source": [
    "import pandas as pd\n",
    "from bs4 import BeautifulSoup\n",
    "import ipywidgets as widgets\n",
    "from IPython.display import display, clear_output\n",
    "from datetime import datetime\n"
   ]
  },
  {
   "cell_type": "markdown",
   "id": "81284fc0",
   "metadata": {},
   "source": [
    "<span style=\"font-family:Lucida Sans Unicode; color:#a10a0a; font-size: 25px\"> User Text Box </span>"
   ]
  },
  {
   "cell_type": "code",
   "execution_count": 2,
   "id": "92a4174c",
   "metadata": {},
   "outputs": [],
   "source": [
    "button_artist = widgets.Button(description=\"Select\")\n",
    "inp_artist = widgets.Text(description='Artist/Band')\n",
    "box_get_artist = widgets.VBox([button_artist, inp_artist])\n",
    "\n",
    "input_artist = []\n",
    "input_history = []\n",
    "\n",
    "def on_button_clicked(text_input):\n",
    "    input_artist.append(inp_artist.value)\n",
    "    input_history.append(f'{datetime.now()}')\n",
    "    print(inp_artist.value, 'selected.')\n",
    "    inp_artist.value = ''    \n",
    "    \n",
    "button_artist.on_click(on_button_clicked)\n"
   ]
  },
  {
   "cell_type": "code",
   "execution_count": 235,
   "id": "d7be6763",
   "metadata": {},
   "outputs": [
    {
     "data": {
      "application/vnd.jupyter.widget-view+json": {
       "model_id": "33c84f3cc0e24093af32c3508fac5d57",
       "version_major": 2,
       "version_minor": 0
      },
      "text/plain": [
       "VBox(children=(VBox(children=(Button(description='Select', style=ButtonStyle()), Text(value='', description='A…"
      ]
     },
     "metadata": {},
     "output_type": "display_data"
    },
    {
     "name": "stdout",
     "output_type": "stream",
     "text": [
      "Metallica selected.\n",
      "Linkin Park selected.\n",
      "InvalidArtistName selected.\n"
     ]
    }
   ],
   "source": [
    "widgets.VBox([box_get_artist])\n"
   ]
  },
  {
   "cell_type": "code",
   "execution_count": 236,
   "id": "eb2dd4ef",
   "metadata": {},
   "outputs": [
    {
     "name": "stdout",
     "output_type": "stream",
     "text": [
      "['Metallica', 'Linkin Park', 'InvalidArtistName']\n",
      "['2023-09-09 03:58:13.918608', '2023-09-09 03:58:15.671894', '2023-09-09 03:58:37.933679']\n"
     ]
    }
   ],
   "source": [
    "print(input_artist)\n",
    "print(input_history)\n"
   ]
  },
  {
   "cell_type": "markdown",
   "id": "42de7bb1",
   "metadata": {},
   "source": [
    "<span style=\"font-family:Lucida Sans Unicode; color:#a10a0a; font-size: 25px\"> Search dictionary and store relevant URLs </span>"
   ]
  },
  {
   "cell_type": "code",
   "execution_count": 237,
   "id": "78362660",
   "metadata": {},
   "outputs": [
    {
     "name": "stdout",
     "output_type": "stream",
     "text": [
      "InvalidArtistName does not exist in the library.\n"
     ]
    }
   ],
   "source": [
    "%run py_utils/generic_utils.ipynb\n",
    "\n",
    "start_urls = []\n",
    "root_url = 'https://www.azlyrics.com/'\n",
    "path = '../datasets/artists_data.json'\n",
    "all_artists = load_json(path)\n",
    "\n",
    "for artist in input_artist:\n",
    "    if artist in all_artists['Artists']:\n",
    "        start_urls.append(root_url+all_artists['Artists'][artist])\n",
    "        \n",
    "    else:\n",
    "        print(f'{artist} does not exist in the library.')\n",
    "        input_artist.remove(artist)\n"
   ]
  },
  {
   "cell_type": "code",
   "execution_count": 238,
   "id": "2e7d286b",
   "metadata": {},
   "outputs": [
    {
     "data": {
      "text/plain": [
       "['https://www.azlyrics.com/m/metallica.html',\n",
       " 'https://www.azlyrics.com/l/linkinpark.html']"
      ]
     },
     "execution_count": 238,
     "metadata": {},
     "output_type": "execute_result"
    }
   ],
   "source": [
    "start_urls"
   ]
  },
  {
   "cell_type": "markdown",
   "id": "446c6714",
   "metadata": {},
   "source": [
    "<span style=\"font-family:Lucida Sans Unicode; color:#a10a0a; font-size: 25px\"> Extract track data from artists </span>"
   ]
  },
  {
   "cell_type": "code",
   "execution_count": 239,
   "id": "98f47b50",
   "metadata": {},
   "outputs": [
    {
     "name": "stdout",
     "output_type": "stream",
     "text": [
      "> Json storage is successful.\n",
      "> Dataframe storage is successful.\n",
      "> Dataframe storage is successful.\n"
     ]
    }
   ],
   "source": [
    "%run crawlers/tracks_crawler.ipynb\n",
    "\n",
    "tracks_crawler(start_urls)"
   ]
  },
  {
   "cell_type": "code",
   "execution_count": 11,
   "id": "949a588b",
   "metadata": {},
   "outputs": [
    {
     "data": {
      "text/plain": [
       "dict_keys(['Tracks', 'Artists', 'Albums', 'URLs'])"
      ]
     },
     "execution_count": 11,
     "metadata": {},
     "output_type": "execute_result"
    }
   ],
   "source": [
    "json_path = '../datasets/discography_data.json'\n",
    "discography = load_json(json_path)\n",
    "\n",
    "discography.keys()"
   ]
  },
  {
   "cell_type": "code",
   "execution_count": null,
   "id": "e831e52a",
   "metadata": {},
   "outputs": [],
   "source": [
    "###"
   ]
  },
  {
   "cell_type": "code",
   "execution_count": 309,
   "id": "e97d2719",
   "metadata": {},
   "outputs": [],
   "source": [
    "# WIP - Dummy Code Block\n",
    "%run py_utils/generic_utils.ipynb\n",
    "%run py_utils/azlyrics_utils.ipynb\n",
    "\n",
    "max_cache = 3\n",
    "output_size =[]\n",
    "user_artist = []\n",
    "user_album = []\n",
    "user_track = []\n",
    "\n",
    "def get_discography():\n",
    "    artist_dropdown = widgets.SelectMultiple(\n",
    "        options=set(discography['Artists']),\n",
    "        value=[],\n",
    "        description=\"Select Artists\",\n",
    "        rows=len(set(discography['Artists'])) \n",
    "    )   \n",
    "    \n",
    "    album_dropdown = widgets.Dropdown(\n",
    "        options=[],\n",
    "        description=\"Select Album\",\n",
    "    )\n",
    "    \n",
    "    track_dropdown = widgets.Dropdown(\n",
    "        options=[],\n",
    "        description=\"Select Tracks\",\n",
    "    )\n",
    "    \n",
    "    def populate_album(change):\n",
    "        selected_artists = change.new\n",
    "        selected_artists = ''.join(selected_artists)\n",
    "        \n",
    "        if selected_artists:\n",
    "            albums_list = get_albums(selected_artists)\n",
    "            album_dropdown.options = albums_list\n",
    "            \n",
    "            if albums_list:\n",
    "                album_dropdown.value = albums_list[0]\n",
    "                \n",
    "    def populate_songs(change):\n",
    "        selected_albums = change.new\n",
    "        selected_albums = ''.join(selected_albums)\n",
    "        \n",
    "        if selected_albums:\n",
    "            tracks_list = get_tracks(selected_albums)\n",
    "            track_dropdown.options = tracks_list\n",
    "            \n",
    "            if tracks_list:\n",
    "                track_dropdown.value = tracks_list[0]\n",
    "    \n",
    "    def get_track(change):\n",
    "        track_dropdown.value = change.new\n",
    "        \n",
    "    def store_user_selection(_):            \n",
    "        selected_artist = ''.join(artist_dropdown.value)\n",
    "        selected_album = ''.join(album_dropdown.value) if selected_artist else None\n",
    "        selected_track = track_dropdown.value\n",
    "        \n",
    "        with output: \n",
    "            output_size.append(output.msg_id)\n",
    "            if len(output_size) > max_cache:\n",
    "                output.clear_output()\n",
    "                output_size.clear()\n",
    "                \n",
    "            if len(user_track) < max_cache:\n",
    "                user_artist.append(selected_artist)\n",
    "                user_album.append(selected_album)\n",
    "                user_track.append(selected_track)\n",
    "                print('Chosen Track(s): ', selected_track, ' by ', selected_artist, ' from ', selected_album)\n",
    "                \n",
    "            else:\n",
    "                print(\"Please purchase a gold membership to increase the track cache.\")\n",
    "            \n",
    "    def reset_selection(_):\n",
    "        user_artist.clear()\n",
    "        user_album.clear()\n",
    "        user_track.clear()\n",
    "        with output: \n",
    "            output.clear_output()\n",
    "            print(\"Cache reset.\")     \n",
    "    \n",
    "    artist_dropdown.observe(populate_album, names='value')   \n",
    "    album_dropdown.observe(populate_songs, names='value') \n",
    "    track_dropdown.observe(get_track, names='value')    \n",
    "    \n",
    "    output = widgets.Output()\n",
    "    button_track = widgets.Button(description=\"Store Track\") \n",
    "    button_track.on_click(store_user_selection)   \n",
    "    \n",
    "    \n",
    "    button_reset = widgets.Button(description=\"Reset\") \n",
    "    button_reset.on_click(reset_selection)   \n",
    "    \n",
    "    print('Note: Free Membership only allows up to 3 songs.\\n')\n",
    "    artist_selection = widgets.VBox([artist_dropdown, album_dropdown, track_dropdown, \n",
    "                                     widgets.HBox([button_track, button_reset]), output])\n",
    "    display(artist_selection) \n",
    "    "
   ]
  },
  {
   "cell_type": "code",
   "execution_count": 310,
   "id": "99addcce",
   "metadata": {},
   "outputs": [
    {
     "name": "stdout",
     "output_type": "stream",
     "text": [
      "Note: Free Membership only allows up to 3 songs.\n",
      "\n"
     ]
    },
    {
     "data": {
      "application/vnd.jupyter.widget-view+json": {
       "model_id": "9669727423dc46f1a8090ccc61984c05",
       "version_major": 2,
       "version_minor": 0
      },
      "text/plain": [
       "VBox(children=(SelectMultiple(description='Select Artists', options=('Metallica Lyrics', 'Linkin Park Lyrics')…"
      ]
     },
     "metadata": {},
     "output_type": "display_data"
    }
   ],
   "source": [
    "get_discography()"
   ]
  },
  {
   "cell_type": "code",
   "execution_count": 312,
   "id": "e13d28d4",
   "metadata": {},
   "outputs": [
    {
     "data": {
      "text/plain": [
       "['High Voltage', 'Step Up', 'Frantic']"
      ]
     },
     "execution_count": 312,
     "metadata": {},
     "output_type": "execute_result"
    }
   ],
   "source": [
    "user_track\n"
   ]
  },
  {
   "cell_type": "code",
   "execution_count": null,
   "id": "9df4f959",
   "metadata": {},
   "outputs": [],
   "source": [
    "##"
   ]
  },
  {
   "cell_type": "markdown",
   "id": "26e64ac7",
   "metadata": {},
   "source": [
    "<span style=\"font-family:Lucida Sans Unicode; color:#a10a0a; font-size: 25px\"> Extract lyrics data from tracks </span>"
   ]
  },
  {
   "cell_type": "code",
   "execution_count": 5,
   "id": "5d57400a",
   "metadata": {},
   "outputs": [
    {
     "name": "stdout",
     "output_type": "stream",
     "text": [
      "3 3 3 3 3\n",
      "> Json storage is successful.\n",
      "> Dataframe storage is successful.\n",
      "> Dataframe storage is successful.\n"
     ]
    }
   ],
   "source": [
    "%run crawlers/lyrics_crawler.ipynb\n",
    "\n",
    "start_urls = ['https://www.azlyrics.com/lyrics/beatles/yellowsubmarine.html', \n",
    "              'https://www.azlyrics.com/lyrics/linkinpark/keystothekingdom.html', \n",
    "              'https://www.azlyrics.com/lyrics/beatles/1822.html']\n",
    "\n",
    "lyrics_crawler(start_urls)"
   ]
  },
  {
   "cell_type": "code",
   "execution_count": null,
   "id": "577730d8",
   "metadata": {},
   "outputs": [],
   "source": []
  },
  {
   "cell_type": "code",
   "execution_count": null,
   "id": "cd0cd06e",
   "metadata": {},
   "outputs": [],
   "source": []
  }
 ],
 "metadata": {
  "kernelspec": {
   "display_name": "Python 3 (ipykernel)",
   "language": "python",
   "name": "python3"
  },
  "language_info": {
   "codemirror_mode": {
    "name": "ipython",
    "version": 3
   },
   "file_extension": ".py",
   "mimetype": "text/x-python",
   "name": "python",
   "nbconvert_exporter": "python",
   "pygments_lexer": "ipython3",
   "version": "3.10.9"
  }
 },
 "nbformat": 4,
 "nbformat_minor": 5
}
