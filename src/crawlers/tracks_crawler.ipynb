{
 "cells": [
  {
   "cell_type": "markdown",
   "id": "a60ed59c",
   "metadata": {},
   "source": [
    "<span style=\"font-family:Lucida Sans Unicode; color:#a10a0a; font-size: 25px\"> Module Installation </span>"
   ]
  },
  {
   "cell_type": "code",
   "execution_count": 1,
   "id": "8e669df6",
   "metadata": {},
   "outputs": [],
   "source": [
    "# !pip install bs4\n",
    "# !pip install requests\n",
    "# !pip install pandas\n"
   ]
  },
  {
   "cell_type": "markdown",
   "id": "0814e4a1",
   "metadata": {},
   "source": [
    "<span style=\"font-family:Lucida Sans Unicode; color:#a10a0a; font-size: 25px\"> Package Imports </span>"
   ]
  },
  {
   "cell_type": "code",
   "execution_count": 23,
   "id": "0e006dfa",
   "metadata": {},
   "outputs": [],
   "source": [
    "from bs4 import BeautifulSoup\n",
    "import requests\n",
    "import pandas as pd\n"
   ]
  },
  {
   "cell_type": "markdown",
   "id": "27dc92d7",
   "metadata": {},
   "source": [
    "<span style=\"font-family:Lucida Sans Unicode; color:#a10a0a; font-size: 25px\"> Scrape tracks from a given set of artists </span>"
   ]
  },
  {
   "cell_type": "code",
   "execution_count": 21,
   "id": "f5988217",
   "metadata": {},
   "outputs": [],
   "source": [
    "%run py_utils/scraping_utils.ipynb\n",
    "%run py_utils/generic_utils.ipynb\n",
    "\n",
    "def tracks_crawler(start_urls):\n",
    "    track_list = []\n",
    "    artist_list = []\n",
    "    album_list = []\n",
    "    url_list = []\n",
    "    \n",
    "    a_key = 'a'\n",
    "    div_key = 'div'\n",
    "    artist_key = 'title'\n",
    "\n",
    "    href_attr = {'class': 'listalbum-item'}\n",
    "    album_attr = {'class': 'album'}\n",
    "    tracks_table = {'id': 'listAlbum'}\n",
    "    album_class = ['album']\n",
    "    track_class = ['listalbum-item']\n",
    "    \n",
    "    for url in start_urls:\n",
    "        req = requests.get(url)\n",
    "        soup = BeautifulSoup(req.text, 'lxml')\n",
    "\n",
    "        find_table = bs4_scrape(soup, 'find', div_key, tracks_table)\n",
    "        find_lists = bs4_scrape(find_table, 'findAll', div_key)    \n",
    "        artist_name = bs4_scrape(soup, 'find', artist_key).text\n",
    "        tracks, artists, albums, urls = get_track_info(find_lists, album_class, track_class, artist_name, a_key)\n",
    "        \n",
    "        for index in range(len(tracks)):\n",
    "            track_list.append(tracks[index])\n",
    "            artist_list.append(artists[index])\n",
    "            album_list.append(albums[index])\n",
    "            url_list.append(urls[index])\n",
    "\n",
    "    json_file_path = '../datasets/discography_data.json'\n",
    "    excel_file_path = '../datasets/discography_data.xlsx'\n",
    "    csv_file_path = '../datasets/discography_data.csv'\n",
    "\n",
    "    key_list = ['Tracks', 'Artists', 'Albums', 'URLs']\n",
    "    values_list = [track_list, artist_list, album_list, url_list]\n",
    "    track_info_dict = create_dict(key_list, values_list)\n",
    "    df = pd.DataFrame(track_info_dict, columns=key_list)\n",
    "\n",
    "    save_json(json_file_path, track_info_dict)\n",
    "    save_df(df, excel_file_path, 'xlsx')\n",
    "    save_df(df, csv_file_path, 'csv')\n",
    "\n",
    "    "
   ]
  },
  {
   "cell_type": "code",
   "execution_count": null,
   "id": "bb3bcb24",
   "metadata": {},
   "outputs": [],
   "source": []
  }
 ],
 "metadata": {
  "kernelspec": {
   "display_name": "Python 3 (ipykernel)",
   "language": "python",
   "name": "python3"
  },
  "language_info": {
   "codemirror_mode": {
    "name": "ipython",
    "version": 3
   },
   "file_extension": ".py",
   "mimetype": "text/x-python",
   "name": "python",
   "nbconvert_exporter": "python",
   "pygments_lexer": "ipython3",
   "version": "3.10.9"
  }
 },
 "nbformat": 4,
 "nbformat_minor": 5
}
