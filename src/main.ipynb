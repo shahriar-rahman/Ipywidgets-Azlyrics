{
 "cells": [
  {
   "cell_type": "markdown",
   "id": "ba43e812",
   "metadata": {},
   "source": [
    "<span style=\"font-family:Lucida Sans Unicode; color:#a10a0a; font-size: 25px\"> Package Import </span>"
   ]
  },
  {
   "cell_type": "code",
   "execution_count": 5,
   "id": "1cb446d0",
   "metadata": {},
   "outputs": [],
   "source": [
    "import string\n",
    "import pandas as pd\n",
    "import ipywidgets as widgets\n",
    "from datetime import datetime\n",
    "from bs4 import BeautifulSoup\n",
    "from ipywidgets import Layout\n",
    "from IPython.display import display, clear_output\n"
   ]
  },
  {
   "cell_type": "markdown",
   "id": "83cf0adb",
   "metadata": {},
   "source": [
    "<span style=\"font-family:Lucida Sans Unicode; color:#a10a0a; font-size: 25px\"> Load Artists Library </span>"
   ]
  },
  {
   "cell_type": "code",
   "execution_count": 6,
   "id": "99b3a7aa",
   "metadata": {},
   "outputs": [],
   "source": [
    "%run py_utils/generic_utils.ipynb\n",
    "\n",
    "start_urls = []\n",
    "path = '../datasets/artists_data.json'\n",
    "all_artists = load_json(path)"
   ]
  },
  {
   "cell_type": "markdown",
   "id": "81284fc0",
   "metadata": {},
   "source": [
    "<span style=\"font-family:Lucida Sans Unicode; color:#a10a0a; font-size: 25px\"> Artist Selection Interface </span>"
   ]
  },
  {
   "cell_type": "code",
   "execution_count": 7,
   "id": "9d337dc1",
   "metadata": {},
   "outputs": [],
   "source": [
    "%run py_utils/widgets_utils.ipynb\n",
    "\n",
    "max_cache = 3\n",
    "alphabets = [letter for letter in string.ascii_uppercase]\n",
    "alphabets.append('#')\n",
    "user_selection = []\n",
    "\n",
    "def get_artists():\n",
    "    def alphabet_based_artists(change):\n",
    "        flag = 0\n",
    "        artists = []\n",
    "        artists_alt = []\n",
    "        selected_alphabet = ''.join(change.new)         \n",
    "        \n",
    "        for i in all_artists['Artists']:\n",
    "            if i[0].upper() == selected_alphabet:\n",
    "                artists.append(i)\n",
    "                flag = 1\n",
    "                \n",
    "            elif i[0].upper() not in alphabets or i[0] == '#':                \n",
    "                artists_alt.append(i)\n",
    "        \n",
    "        if flag: artist_dropdown.options = artists; artist_dropdown.value = artists[0]\n",
    "        else: artist_dropdown.options = artists_alt; artist_dropdown.value = artists_alt[0]\n",
    "    \n",
    "    def display_selected_artist(change):\n",
    "        selection = ''.join(change.new)\n",
    "        widget_output(output, selection)\n",
    "        artist_dropdown.value = selection\n",
    "            \n",
    "    def retrieve_data(_): \n",
    "        if len(user_selection) < max_cache:\n",
    "            comment = artist_dropdown.value+\" saved.\"\n",
    "            user_selection.append(artist_dropdown.value)\n",
    "            widget_output(output, comment)\n",
    "            \n",
    "        else:\n",
    "            comment = \"Gold membership is required to select more than 3 artists.\"\n",
    "            widget_output(output, comment)\n",
    "    \n",
    "    def clear_data(_):\n",
    "        user_selection.clear()\n",
    "        comment = \"Selection Cleared.\"\n",
    "        widget_output(output, comment)\n",
    "    \n",
    "    output = create_output()\n",
    "    alphabet_dropdown = assign_dropdown(alphabets, \"Alphabet\", arg_function=alphabet_based_artists, observe=True)\n",
    "    artist_dropdown = assign_dropdown(all_artists, \"Artist\", arg_function=display_selected_artist, observe=True)    \n",
    "    dropdowns = create_gui(alphabet_dropdown, artist_dropdown, num=[0,1], wd='300', widget_type='H', gui_display=0)\n",
    "    \n",
    "    select_button = create_button(\"Select Artist\", arg_function=retrieve_data)\n",
    "    clear_button = create_button(\"Clear Selection\", arg_function=clear_data)\n",
    "    buttons = create_gui(select_button, clear_button, num=[0,1], wd='300', widget_type='H', gui_display=0)    \n",
    "    create_gui(output, dropdowns, buttons, widget_type='V', gui_display=1)  \n",
    "    "
   ]
  },
  {
   "cell_type": "code",
   "execution_count": 8,
   "id": "38d0a28f",
   "metadata": {},
   "outputs": [
    {
     "data": {
      "application/vnd.jupyter.widget-view+json": {
       "model_id": "eb2ce93a423e4898a3e568dffad74ef4",
       "version_major": 2,
       "version_minor": 0
      },
      "text/plain": [
       "VBox(children=(Output(), HBox(children=(Dropdown(description='Alphabet', layout=Layout(width='300px'), options…"
      ]
     },
     "metadata": {},
     "output_type": "display_data"
    }
   ],
   "source": [
    "get_artists()"
   ]
  },
  {
   "cell_type": "code",
   "execution_count": 9,
   "id": "ef3b90ae",
   "metadata": {},
   "outputs": [
    {
     "data": {
      "text/plain": [
       "['Coldplay']"
      ]
     },
     "execution_count": 9,
     "metadata": {},
     "output_type": "execute_result"
    }
   ],
   "source": [
    "user_selection"
   ]
  },
  {
   "cell_type": "markdown",
   "id": "42de7bb1",
   "metadata": {},
   "source": [
    "<span style=\"font-family:Lucida Sans Unicode; color:#a10a0a; font-size: 25px\"> Search dictionary and store relevant URLs </span>"
   ]
  },
  {
   "cell_type": "code",
   "execution_count": 10,
   "id": "78362660",
   "metadata": {},
   "outputs": [
    {
     "data": {
      "text/plain": [
       "['https://www.azlyrics.com/c/coldplay.html']"
      ]
     },
     "execution_count": 10,
     "metadata": {},
     "output_type": "execute_result"
    }
   ],
   "source": [
    "%run py_utils/azlyrics_utils.ipynb\n",
    "\n",
    "start_urls = match_artists(user_selection, all_artists)\n",
    "start_urls"
   ]
  },
  {
   "cell_type": "markdown",
   "id": "446c6714",
   "metadata": {},
   "source": [
    "<span style=\"font-family:Lucida Sans Unicode; color:#a10a0a; font-size: 25px\"> Scrape tracks from artists </span>"
   ]
  },
  {
   "cell_type": "code",
   "execution_count": 11,
   "id": "98f47b50",
   "metadata": {},
   "outputs": [
    {
     "name": "stdout",
     "output_type": "stream",
     "text": [
      "> Json storage is successful.\n",
      "> Dataframe storage is successful.\n",
      "> Dataframe storage is successful.\n"
     ]
    }
   ],
   "source": [
    "%run crawlers/tracks_crawler.ipynb\n",
    "\n",
    "tracks_crawler(start_urls)"
   ]
  },
  {
   "cell_type": "markdown",
   "id": "26d41046",
   "metadata": {},
   "source": [
    "<span style=\"font-family:Lucida Sans Unicode; color:#a10a0a; font-size: 25px\"> Load discography </span>"
   ]
  },
  {
   "cell_type": "code",
   "execution_count": 12,
   "id": "949a588b",
   "metadata": {},
   "outputs": [
    {
     "data": {
      "text/plain": [
       "dict_keys(['Tracks', 'Artists', 'Albums', 'URLs'])"
      ]
     },
     "execution_count": 12,
     "metadata": {},
     "output_type": "execute_result"
    }
   ],
   "source": [
    "json_path = '../datasets/discography_data.json'\n",
    "discography = load_json(json_path)\n",
    "\n",
    "discography.keys()"
   ]
  },
  {
   "cell_type": "markdown",
   "id": "f925776c",
   "metadata": {},
   "source": [
    "<span style=\"font-family:Lucida Sans Unicode; color:#a10a0a; font-size: 25px\"> Track Selection Interface </span>"
   ]
  },
  {
   "cell_type": "code",
   "execution_count": 18,
   "id": "d019aaf1",
   "metadata": {},
   "outputs": [],
   "source": [
    "%run py_utils/generic_utils.ipynb\n",
    "%run py_utils/azlyrics_utils.ipynb\n",
    "\n",
    "max_cache = 3\n",
    "user_artist = []\n",
    "user_album = []\n",
    "user_track = []\n",
    "\n",
    "def get_discography():    \n",
    "    def artist_based_albums(change):\n",
    "        selected_artists = ''.join(change.new)        \n",
    "        albums_list = get_albums(discography, selected_artists)\n",
    "        \n",
    "        album_dropdown.options = albums_list\n",
    "        album_dropdown.value = albums_list[0]\n",
    "                \n",
    "    def album_based_tracks(change):\n",
    "        selected_albums = ''.join(change.new) \n",
    "        tracks_list = get_tracks(discography, selected_albums)\n",
    "        \n",
    "        track_dropdown.options = tracks_list\n",
    "        track_dropdown.value = tracks_list[0]\n",
    "    \n",
    "    def display_selected_track(change):\n",
    "        selection = change.new\n",
    "        widget_output(output, selection)\n",
    "        track_dropdown.value = selection        \n",
    "        \n",
    "    def retrieve_track(_):            \n",
    "        if len(user_artist) < max_cache:\n",
    "            comment = track_dropdown.value + \" saved.\"\n",
    "            selected_artist = ''.join(artist_dropdown.value)\n",
    "            selected_album = ''.join(album_dropdown.value) if selected_artist else None\n",
    "            selected_track = ''.join(track_dropdown.value) if selected_album else None\n",
    "            \n",
    "            user_artist.append(selected_artist)\n",
    "            user_album.append(selected_album)\n",
    "            user_track.append(selected_track)\n",
    "            widget_output(output, comment)\n",
    "        else:\n",
    "            comment = \"Note: Free Membership only allows up to 3 songs.\"\n",
    "            widget_output(output, comment)            \n",
    "\n",
    "    def reset_selection(_):\n",
    "        user_artist.clear()\n",
    "        user_album.clear()\n",
    "        user_track.clear()\n",
    "        comment = \"Selection Cleared.\"\n",
    "        widget_output(output, comment)  \n",
    "        \n",
    "    def refresh_selection(_):\n",
    "        selected_artists = ''.join(artist_dropdown.value)\n",
    "        albums_list = get_albums(discography, selected_artists) \n",
    "        \n",
    "        album_dropdown.options = albums_list\n",
    "        album_dropdown.value = albums_list[0] \n",
    "    \n",
    "    output = create_output()    \n",
    "    artist_dropdown = assign_dropdown(set(discography['Artists']), \"Select Artists\", arg_function=artist_based_albums, \n",
    "                                                observe=1)    \n",
    "    album_dropdown = assign_dropdown([], \"Select Album\", arg_function=album_based_tracks, observe=1)    \n",
    "    track_dropdown = assign_dropdown([], \"Select Tracks\", arg_function=display_selected_track, observe=1)\n",
    "    button_track = create_button(\"Select Track\", arg_function=retrieve_track)\n",
    "    button_reset = create_button(\"Clear Selection\", arg_function=reset_selection)    \n",
    "    button_refresh = create_button(\"Refresh\", arg_function=refresh_selection)\n",
    "    \n",
    "    dropdowns = create_gui(artist_dropdown, album_dropdown, track_dropdown, num=[0,1,2], wd='350', \n",
    "                           widget_type='H', gui_display=0)\n",
    "    buttons = create_gui(button_track, button_reset, button_refresh, num=[0,1,2], wd='250', widget_type='H', gui_display=0)\n",
    "    create_gui(dropdowns, buttons, output, widget_type='V', gui_display=1)\n",
    "    "
   ]
  },
  {
   "cell_type": "code",
   "execution_count": 19,
   "id": "99addcce",
   "metadata": {},
   "outputs": [
    {
     "data": {
      "application/vnd.jupyter.widget-view+json": {
       "model_id": "ca32e703e3264ac0b0dff15cee93793a",
       "version_major": 2,
       "version_minor": 0
      },
      "text/plain": [
       "VBox(children=(HBox(children=(Dropdown(description='Select Artists', layout=Layout(width='350px'), options=('C…"
      ]
     },
     "metadata": {},
     "output_type": "display_data"
    }
   ],
   "source": [
    "get_discography()"
   ]
  },
  {
   "cell_type": "code",
   "execution_count": 17,
   "id": "e13d28d4",
   "metadata": {},
   "outputs": [
    {
     "data": {
      "text/plain": [
       "['We Never Change']"
      ]
     },
     "execution_count": 17,
     "metadata": {},
     "output_type": "execute_result"
    }
   ],
   "source": [
    "user_track"
   ]
  },
  {
   "cell_type": "markdown",
   "id": "002174e1",
   "metadata": {},
   "source": [
    "<span style=\"font-family:Lucida Sans Unicode; color:#a10a0a; font-size: 25px\"> Generate URLs from the selected tracks </span>"
   ]
  },
  {
   "cell_type": "code",
   "execution_count": 37,
   "id": "e1d9f199",
   "metadata": {},
   "outputs": [
    {
     "data": {
      "text/plain": [
       "['https://www.azlyrics.com/lyrics/blacksabbath/bornagain.html',\n",
       " 'https://www.azlyrics.com/lyrics/beatles/slowdown.html',\n",
       " 'https://www.azlyrics.com/lyrics/acdc/flickoftheswitch.html']"
      ]
     },
     "execution_count": 37,
     "metadata": {},
     "output_type": "execute_result"
    }
   ],
   "source": [
    "%run py_utils/azlyrics_utils.ipynb\n",
    "start_urls= []\n",
    "\n",
    "for i, track in enumerate(user_track):\n",
    "    start_urls.append(get_url(discography, track, user_artist[i], user_album[i]))\n",
    "\n",
    "start_urls"
   ]
  },
  {
   "cell_type": "markdown",
   "id": "26e64ac7",
   "metadata": {},
   "source": [
    "<span style=\"font-family:Lucida Sans Unicode; color:#a10a0a; font-size: 25px\"> Extract lyrics data from tracks </span>"
   ]
  },
  {
   "cell_type": "code",
   "execution_count": 38,
   "id": "5d57400a",
   "metadata": {},
   "outputs": [
    {
     "name": "stdout",
     "output_type": "stream",
     "text": [
      "3 3 3 3 3\n",
      "> Json storage is successful.\n",
      "> Dataframe storage is successful.\n",
      "> Dataframe storage is successful.\n"
     ]
    }
   ],
   "source": [
    "%run crawlers/lyrics_crawler.ipynb\n",
    "\n",
    "lyrics_crawler(start_urls)"
   ]
  },
  {
   "cell_type": "markdown",
   "id": "b84f4467",
   "metadata": {},
   "source": [
    "<span style=\"font-family:Lucida Sans Unicode; color:#a10a0a; font-size: 25px\"> Load Lyrics </span>"
   ]
  },
  {
   "cell_type": "code",
   "execution_count": 39,
   "id": "8eed0b5e",
   "metadata": {},
   "outputs": [
    {
     "data": {
      "text/plain": [
       "dict_keys(['Tracks', 'Lyrics', 'Artists', 'Albums', 'Credits'])"
      ]
     },
     "execution_count": 39,
     "metadata": {},
     "output_type": "execute_result"
    }
   ],
   "source": [
    "%run py_utils/generic_utils.ipynb\n",
    "\n",
    "json_path = '../datasets/lyrics_data.json'\n",
    "track_lyrics = load_json(json_path)\n",
    "\n",
    "track_lyrics.keys()"
   ]
  },
  {
   "cell_type": "markdown",
   "id": "d4be8aa4",
   "metadata": {},
   "source": [
    "<span style=\"font-family:Lucida Sans Unicode; color:#a10a0a; font-size: 25px\"> Display Lyrics and Artist Information </span>"
   ]
  },
  {
   "cell_type": "code",
   "execution_count": 40,
   "id": "08c90768",
   "metadata": {},
   "outputs": [],
   "source": [
    "%run py_utils/azlyrics_utils.ipynb\n",
    "%run py_utils/widgets_utils.ipynb\n",
    " \n",
    "selection_size = len(track_lyrics['Tracks'])\n",
    "\n",
    "def get_lyrics():        \n",
    "    def select_track(change):        \n",
    "        selected_track = ''.join(change.new)\n",
    "        track_dropdown.value = selected_track\n",
    "        widget_output(output, selected_track)\n",
    "    \n",
    "    def display_lyrics(_):\n",
    "        selected_lyrics = ''.join(track_dropdown.value)        \n",
    "        get_track_lyrics(output, track_lyrics, selected_lyrics)        \n",
    "\n",
    "    output = create_output() \n",
    "    track_dropdown = assign_dropdown(set(track_lyrics['Tracks']), \"Select Tracks\", arg_function=select_track, observe=1)    \n",
    "    lyrics_button = create_button(\"Display Lyrics\", arg_function=display_lyrics)  \n",
    "    \n",
    "    dropdown_button = create_gui(track_dropdown, lyrics_button, widget_type='H', num=[0,1], wd='400', gui_display=0)\n",
    "    create_gui( dropdown_button, output, widget_type='V', num=[1], wd='400', gui_display=1)    \n"
   ]
  },
  {
   "cell_type": "code",
   "execution_count": 41,
   "id": "73bda079",
   "metadata": {},
   "outputs": [
    {
     "data": {
      "application/vnd.jupyter.widget-view+json": {
       "model_id": "afc361c651d04ffabb5ae06ace7ee86c",
       "version_major": 2,
       "version_minor": 0
      },
      "text/plain": [
       "VBox(children=(HBox(children=(Dropdown(description='Select Tracks', layout=Layout(width='400px'), options=('\"B…"
      ]
     },
     "metadata": {},
     "output_type": "display_data"
    }
   ],
   "source": [
    "get_lyrics()\n"
   ]
  },
  {
   "cell_type": "code",
   "execution_count": null,
   "id": "225d7936",
   "metadata": {},
   "outputs": [],
   "source": []
  }
 ],
 "metadata": {
  "kernelspec": {
   "display_name": "Python 3 (ipykernel)",
   "language": "python",
   "name": "python3"
  },
  "language_info": {
   "codemirror_mode": {
    "name": "ipython",
    "version": 3
   },
   "file_extension": ".py",
   "mimetype": "text/x-python",
   "name": "python",
   "nbconvert_exporter": "python",
   "pygments_lexer": "ipython3",
   "version": "3.10.9"
  }
 },
 "nbformat": 4,
 "nbformat_minor": 5
}
