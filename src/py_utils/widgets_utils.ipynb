{
 "cells": [
  {
   "cell_type": "code",
   "execution_count": 19,
   "id": "504d6eea",
   "metadata": {},
   "outputs": [],
   "source": [
    "import ipywidgets as widgets\n",
    "from ipywidgets import Layout\n",
    "from IPython.display import display, clear_output\n",
    "from datetime import datetime\n",
    "from inspect import isfunction"
   ]
  },
  {
   "cell_type": "code",
   "execution_count": 16,
   "id": "0039429d",
   "metadata": {},
   "outputs": [],
   "source": [
    "def assign_multiple_selection(options, label, arg_function=False, observe=False):\n",
    "    default = widgets.SelectMultiple(\n",
    "        options=options,\n",
    "        value=[],\n",
    "        description=label,\n",
    "        rows=len(options),        \n",
    "    )      \n",
    "        \n",
    "    if observe and isfunction(arg_function) == 1:\n",
    "        default.observe(arg_function, names='value')\n",
    "    \n",
    "    return default\n",
    "    "
   ]
  },
  {
   "cell_type": "code",
   "execution_count": null,
   "id": "ef4c6a31",
   "metadata": {},
   "outputs": [],
   "source": [
    "def assign_dropdown(options, label, arg_function=False, observe=False):\n",
    "    default = widgets.Dropdown(\n",
    "        options=options,\n",
    "        description=label,       \n",
    "    )   \n",
    "        \n",
    "    if observe and isfunction(arg_function) == 1:\n",
    "        default.observe(arg_function, names='value')\n",
    "    \n",
    "    return default\n",
    "    "
   ]
  },
  {
   "cell_type": "code",
   "execution_count": 13,
   "id": "e2243a3b",
   "metadata": {},
   "outputs": [],
   "source": [
    "def create_gui(*arg, widget_type=False, num=False, wd=False, gui_display=False):\n",
    "    match widget_type.lower():\n",
    "        case 'v': assembled_gui = widgets.VBox([i for i in arg])\n",
    "        case 'h': assembled_gui = widgets.HBox([i for i in arg])\n",
    "        case _: raise ValueError(\"! Incompatible Widget type passed.\")\n",
    "    \n",
    "    if num and wd: \n",
    "        for i in num:\n",
    "            assembled_gui.children[i].layout = Layout(width=wd+'px')\n",
    "    if gui_display: display(assembled_gui) \n",
    "    else: return assembled_gui\n",
    "    "
   ]
  },
  {
   "cell_type": "code",
   "execution_count": 5,
   "id": "9fd62b22",
   "metadata": {},
   "outputs": [],
   "source": [
    "def create_button(label, arg_function): \n",
    "    default = widgets.Button(description=label)    \n",
    "    \n",
    "    if isfunction(arg_function) == 1:\n",
    "        default.on_click(arg_function)\n",
    "        return default\n",
    "        \n",
    "    else:\n",
    "        raise ValueError('! Invalid parameter passed.')    \n",
    "    "
   ]
  },
  {
   "cell_type": "code",
   "execution_count": 21,
   "id": "94d13c98",
   "metadata": {},
   "outputs": [],
   "source": [
    "def widget_output(output, result):\n",
    "    if type(output) is widgets.widget_output.Output:\n",
    "        with output:\n",
    "            output.clear_output()\n",
    "            print(result)  "
   ]
  },
  {
   "cell_type": "code",
   "execution_count": null,
   "id": "f3b0d04e",
   "metadata": {},
   "outputs": [],
   "source": []
  }
 ],
 "metadata": {
  "kernelspec": {
   "display_name": "Python 3 (ipykernel)",
   "language": "python",
   "name": "python3"
  },
  "language_info": {
   "codemirror_mode": {
    "name": "ipython",
    "version": 3
   },
   "file_extension": ".py",
   "mimetype": "text/x-python",
   "name": "python",
   "nbconvert_exporter": "python",
   "pygments_lexer": "ipython3",
   "version": "3.10.9"
  }
 },
 "nbformat": 4,
 "nbformat_minor": 5
}
