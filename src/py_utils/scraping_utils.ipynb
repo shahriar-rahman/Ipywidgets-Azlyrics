{
 "cells": [
  {
   "cell_type": "markdown",
   "id": "cc6c0a73",
   "metadata": {},
   "source": [
    "<span style=\"font-family:Lucida Sans Unicode; color:#a10a0a; font-size: 25px\"> Package Import </span>"
   ]
  },
  {
   "cell_type": "code",
   "execution_count": 3,
   "id": "59ce4f70",
   "metadata": {},
   "outputs": [],
   "source": [
    "from bs4 import BeautifulSoup\n",
    "import bs4\n",
    "import requests"
   ]
  },
  {
   "cell_type": "markdown",
   "id": "3e658a48",
   "metadata": {},
   "source": [
    "<span style=\"font-family:Lucida Sans Unicode; color:#a10a0a; font-size: 25px\"> Get URL requests </span>"
   ]
  },
  {
   "cell_type": "code",
   "execution_count": null,
   "id": "9993ab92",
   "metadata": {},
   "outputs": [],
   "source": [
    "def get_request(url):\n",
    "    response = requests.get(url)\n",
    "    soup = BeautifulSoup(response.text, \"lxml\")\n",
    "    return soup\n"
   ]
  },
  {
   "cell_type": "markdown",
   "id": "3f4d16cd",
   "metadata": {},
   "source": [
    "<span style=\"font-family:Lucida Sans Unicode; color:#a10a0a; font-size: 25px\"> Scrape items using Selectors </span>"
   ]
  },
  {
   "cell_type": "code",
   "execution_count": 6,
   "id": "3c5e9559",
   "metadata": {},
   "outputs": [],
   "source": [
    "def bs4_scrape(soup, selector, keyword, attr=False):\n",
    "    if not isinstance(soup, (bs4.BeautifulSoup, bs4.element.Tag, bs4.element.ResultSet)):\n",
    "        raise ValueError(\n",
    "            f\"Invalid object type provided as 'soup': {type(soup)}. Expected: bs4.BeautifulSoup or Tag.\")\n",
    "\n",
    "    try:\n",
    "        if selector in {'findAll', 'find_all', 'find', 'find_next', 'findNext'}:\n",
    "            if attr:\n",
    "                data = getattr(soup, selector)(keyword, attrs=attr)\n",
    "            else:\n",
    "                data = getattr(soup, selector)(keyword)\n",
    "            return data\n",
    "\n",
    "    except Exception as exc:\n",
    "        print(f\"Error during scraping: {exc}\")\n",
    "\n",
    "    return None\n"
   ]
  },
  {
   "cell_type": "code",
   "execution_count": null,
   "id": "d5f7b18a",
   "metadata": {},
   "outputs": [],
   "source": []
  }
 ],
 "metadata": {
  "kernelspec": {
   "display_name": "Python 3 (ipykernel)",
   "language": "python",
   "name": "python3"
  },
  "language_info": {
   "codemirror_mode": {
    "name": "ipython",
    "version": 3
   },
   "file_extension": ".py",
   "mimetype": "text/x-python",
   "name": "python",
   "nbconvert_exporter": "python",
   "pygments_lexer": "ipython3",
   "version": "3.10.9"
  }
 },
 "nbformat": 4,
 "nbformat_minor": 5
}
