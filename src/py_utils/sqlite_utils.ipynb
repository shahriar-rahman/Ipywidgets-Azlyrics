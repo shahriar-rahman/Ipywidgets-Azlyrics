{
 "cells": [
  {
   "cell_type": "markdown",
   "id": "b8870f38",
   "metadata": {},
   "source": [
    "<span style=\"font-family:Lucida Sans Unicode; color:#a10a0a; font-size: 25px\"> Package Import </span>"
   ]
  },
  {
   "cell_type": "code",
   "execution_count": 1,
   "id": "b590daf9",
   "metadata": {},
   "outputs": [],
   "source": [
    "import sqlite3"
   ]
  },
  {
   "cell_type": "markdown",
   "id": "c0c4b798",
   "metadata": {},
   "source": [
    "<span style=\"font-family:Lucida Sans Unicode; color:#a10a0a; font-size: 25px\"> Connect to SQLite </span>"
   ]
  },
  {
   "cell_type": "code",
   "execution_count": 2,
   "id": "d3e5ed04",
   "metadata": {},
   "outputs": [],
   "source": [
    "def connect_sqlite(db_path):\n",
    "    if db_path:\n",
    "        con = sqlite3.connect(db_path)\n",
    "        cur = con.cursor()        \n",
    "        return con, cur\n",
    "    \n",
    "    else:\n",
    "        raise ValueError(\"! Invalid path.\")\n"
   ]
  },
  {
   "cell_type": "markdown",
   "id": "81dfcd6c",
   "metadata": {},
   "source": [
    "<span style=\"font-family:Lucida Sans Unicode; color:#a10a0a; font-size: 25px\"> Execute and Commit </span>"
   ]
  },
  {
   "cell_type": "code",
   "execution_count": 1,
   "id": "1416e647",
   "metadata": {},
   "outputs": [],
   "source": [
    "def run_query(cur, con, query, values=False):\n",
    "    cur.execute(query, values) if values else cur.execute(query)       \n",
    "    con.commit()\n",
    "    "
   ]
  }
 ],
 "metadata": {
  "kernelspec": {
   "display_name": "Python 3 (ipykernel)",
   "language": "python",
   "name": "python3"
  },
  "language_info": {
   "codemirror_mode": {
    "name": "ipython",
    "version": 3
   },
   "file_extension": ".py",
   "mimetype": "text/x-python",
   "name": "python",
   "nbconvert_exporter": "python",
   "pygments_lexer": "ipython3",
   "version": "3.10.9"
  }
 },
 "nbformat": 4,
 "nbformat_minor": 5
}
