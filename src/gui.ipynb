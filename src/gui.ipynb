{
 "cells": [
  {
   "cell_type": "markdown",
   "id": "2fb5b9a7",
   "metadata": {},
   "source": [
    "<span style=\"font-family:Lucida Sans Unicode; color:#a10a0a; font-size: 25px\"> Load all Artists </span>"
   ]
  },
  {
   "cell_type": "code",
   "execution_count": 10,
   "id": "0df9cf17",
   "metadata": {},
   "outputs": [],
   "source": [
    "%run main.ipynb\n",
    "\n",
    "all_artists = load_artist_from_json()"
   ]
  },
  {
   "cell_type": "markdown",
   "id": "e6b5b5bb",
   "metadata": {},
   "source": [
    "<span style=\"font-family:Lucida Sans Unicode; color:#a10a0a; font-size: 25px\"> Select Artists </span>"
   ]
  },
  {
   "cell_type": "code",
   "execution_count": 11,
   "id": "64fe4de4",
   "metadata": {},
   "outputs": [
    {
     "data": {
      "application/vnd.jupyter.widget-view+json": {
       "model_id": "4cfcb35646244002811d677e54c96525",
       "version_major": 2,
       "version_minor": 0
      },
      "text/plain": [
       "VBox(children=(Output(), HBox(children=(Dropdown(description='Alphabet', layout=Layout(width='300px'), options…"
      ]
     },
     "metadata": {},
     "output_type": "display_data"
    }
   ],
   "source": [
    "%run main.ipynb\n",
    "\n",
    "user_selection = get_artists()"
   ]
  },
  {
   "cell_type": "code",
   "execution_count": 12,
   "id": "7e87ee79",
   "metadata": {},
   "outputs": [
    {
     "data": {
      "text/plain": [
       "['U2']"
      ]
     },
     "execution_count": 12,
     "metadata": {},
     "output_type": "execute_result"
    }
   ],
   "source": [
    "user_selection"
   ]
  },
  {
   "cell_type": "markdown",
   "id": "9676258f",
   "metadata": {},
   "source": [
    "<span style=\"font-family:Lucida Sans Unicode; color:#a10a0a; font-size: 25px\"> Scrape Artist page </span>"
   ]
  },
  {
   "cell_type": "code",
   "execution_count": 13,
   "id": "73b86847",
   "metadata": {},
   "outputs": [
    {
     "name": "stdout",
     "output_type": "stream",
     "text": [
      "Target located inside the Database.\n",
      " Skipping the Scraping Procedure.\n"
     ]
    }
   ],
   "source": [
    "%run main.ipynb\n",
    "\n",
    "start_urls = search_dict(user_selection, all_artists)\n",
    "run_tracks_crawler(start_urls, user_selection)"
   ]
  },
  {
   "cell_type": "markdown",
   "id": "0bbad46c",
   "metadata": {},
   "source": [
    "<span style=\"font-family:Lucida Sans Unicode; color:#a10a0a; font-size: 25px\"> Select Albums and Tracks </span>"
   ]
  },
  {
   "cell_type": "code",
   "execution_count": 14,
   "id": "99ea6e5f",
   "metadata": {},
   "outputs": [
    {
     "data": {
      "application/vnd.jupyter.widget-view+json": {
       "model_id": "f788d01923c14d9fbe3fd2d32301e74d",
       "version_major": 2,
       "version_minor": 0
      },
      "text/plain": [
       "VBox(children=(HBox(children=(Dropdown(description='Select Artists', layout=Layout(width='350px'), options=('U…"
      ]
     },
     "metadata": {},
     "output_type": "display_data"
    }
   ],
   "source": [
    "%run main.ipynb\n",
    "\n",
    "discography = load_discography()\n",
    "user_track, user_artist, user_album = get_discography()"
   ]
  },
  {
   "cell_type": "code",
   "execution_count": 15,
   "id": "6e2603c8",
   "metadata": {},
   "outputs": [
    {
     "data": {
      "text/plain": [
       "['I Will Follow', 'The Electric Co.', 'Twilight']"
      ]
     },
     "execution_count": 15,
     "metadata": {},
     "output_type": "execute_result"
    }
   ],
   "source": [
    "user_track "
   ]
  },
  {
   "cell_type": "markdown",
   "id": "1d14e92c",
   "metadata": {},
   "source": [
    "<span style=\"font-family:Lucida Sans Unicode; color:#a10a0a; font-size: 25px\"> Scrape Tracks</span>"
   ]
  },
  {
   "cell_type": "code",
   "execution_count": 16,
   "id": "c03b9280",
   "metadata": {},
   "outputs": [
    {
     "name": "stdout",
     "output_type": "stream",
     "text": [
      "['I Will Follow', 'The Electric Co.', 'Twilight']\n",
      "Target located inside the Database.\n",
      "Target located inside the Database.\n",
      "> Database Storage Successful.\n",
      "> Json storage is successful.\n",
      "> Dataframe storage is successful.\n",
      "> Dataframe storage is successful.\n"
     ]
    }
   ],
   "source": [
    "%run main.ipynb\n",
    "\n",
    "start_urls = generate_urls(user_track)\n",
    "lyrics_scrape(start_urls, user_track)"
   ]
  },
  {
   "cell_type": "markdown",
   "id": "4e10611c",
   "metadata": {},
   "source": [
    "<span style=\"font-family:Lucida Sans Unicode; color:#a10a0a; font-size: 25px\"> Select Lyrics </span>"
   ]
  },
  {
   "cell_type": "code",
   "execution_count": 17,
   "id": "ae915f41",
   "metadata": {},
   "outputs": [
    {
     "data": {
      "application/vnd.jupyter.widget-view+json": {
       "model_id": "9bdd87b7382a4740b523d08f8a8722a0",
       "version_major": 2,
       "version_minor": 0
      },
      "text/plain": [
       "VBox(children=(HBox(children=(Dropdown(description='Select Tracks', layout=Layout(width='400px'), options=('\"T…"
      ]
     },
     "metadata": {},
     "output_type": "display_data"
    }
   ],
   "source": [
    "%run main.ipynb\n",
    "\n",
    "track_lyrics = load_lyrics()\n",
    "get_lyrics(track_lyrics, user_track)"
   ]
  },
  {
   "cell_type": "markdown",
   "id": "ae0780ff",
   "metadata": {},
   "source": [
    "<span style=\"font-family:Lucida Sans Unicode; color:#a10a0a; font-size: 25px\"> Check Database </span>"
   ]
  },
  {
   "cell_type": "code",
   "execution_count": 9,
   "id": "186bec03",
   "metadata": {},
   "outputs": [
    {
     "name": "stdout",
     "output_type": "stream",
     "text": [
      "['\\nU2 Lyrics\\n', '\\nMauve Lyrics\\n', '\\nColdplay Lyrics\\n', '\\nAC/DC Lyrics\\n', '\\nLinkin Park Lyrics\\n', '\\nAvenged Sevenfold Lyrics\\n', '\\nThe Blue Pages Lyrics\\n', '\\nAmerican Authors Lyrics\\n']\n"
     ]
    }
   ],
   "source": [
    "%run main.ipynb\n",
    "\n",
    "db_soundtracks = 'db_soundtracks'\n",
    "soundtrack_table = 'soundtrack_table'\n",
    "\n",
    "db_lyrics = 'db_lyrics'\n",
    "lyrics_table = 'lyrics_table'\n",
    "\n",
    "db_path = '../database/'\n",
    "column_index = 2\n",
    "\n",
    "try:\n",
    "    diagnose_db(db_lyrics, lyrics_table, column_index, db_path)\n",
    "except Exception as exc:\n",
    "    print(exc)\n"
   ]
  },
  {
   "cell_type": "code",
   "execution_count": null,
   "id": "39416e55",
   "metadata": {},
   "outputs": [],
   "source": []
  }
 ],
 "metadata": {
  "kernelspec": {
   "display_name": "Python 3 (ipykernel)",
   "language": "python",
   "name": "python3"
  },
  "language_info": {
   "codemirror_mode": {
    "name": "ipython",
    "version": 3
   },
   "file_extension": ".py",
   "mimetype": "text/x-python",
   "name": "python",
   "nbconvert_exporter": "python",
   "pygments_lexer": "ipython3",
   "version": "3.10.9"
  }
 },
 "nbformat": 4,
 "nbformat_minor": 5
}
