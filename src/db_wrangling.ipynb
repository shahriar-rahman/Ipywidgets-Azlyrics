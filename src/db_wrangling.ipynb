{
 "cells": [
  {
   "cell_type": "code",
   "execution_count": 14,
   "id": "daf5ac37",
   "metadata": {},
   "outputs": [],
   "source": []
  },
  {
   "cell_type": "code",
   "execution_count": 2,
   "id": "77c4a8a6",
   "metadata": {},
   "outputs": [],
   "source": [
    "%run py_utils/sqlite_utils.ipynb\n",
    "%run main.ipynb\n",
    "\n",
    "artist_filter = []\n",
    "artist_url = []\n",
    "album_filter = []\n",
    "year_filter = []\n",
    "\n",
    "db_soundtracks = 'db_soundtracks'  \n",
    "soundtrack_table = 'soundtrack_table'  \n",
    "soundtracks_path = f'../database/{db_soundtracks}.db' \n",
    "\n",
    "start_urls = []\n",
    "path = '../datasets/artists_data.json'\n",
    "all_artists = load_json(path)\n",
    "\n",
    "query = f\"\"\" SELECT distinct artists from {soundtrack_table} \"\"\"\n",
    "data_artist = get_data_from_db(soundtracks_path, query)\n",
    "for row in data_artist:\n",
    "    row = ' '.join(row[0].split(' ')[:-1])\n",
    "    artist_filter.append(row)\n",
    "    \n",
    "for artist in artist_filter:\n",
    "    if artist in all_artists['Artists']:\n",
    "        artist_url.append(all_artists['Artists'][artist])\n"
   ]
  },
  {
   "cell_type": "code",
   "execution_count": 4,
   "id": "8c74b27d",
   "metadata": {},
   "outputs": [
    {
     "name": "stdout",
     "output_type": "stream",
     "text": [
      "UNIQUE constraint failed: artist_table.id, artist_table.name, artist_table.source\n",
      "(0, 'AC/DC', 'a/acdc.html', '2023-09-27 20:50:46', '2023-09-27 20:50:46')\n",
      "(1, 'Avenged Sevenfold', 'a/avengedsevenfold.html', '2023-09-27 20:50:46', '2023-09-27 20:50:46')\n",
      "(2, 'U2', 'u/u2band.html', '2023-09-27 20:50:46', '2023-09-27 20:50:46')\n",
      "(3, 'Metallica', 'm/metallica.html', '2023-09-27 20:50:46', '2023-09-27 20:50:46')\n",
      "(4, 'Coldplay', 'c/coldplay.html', '2023-09-27 20:50:46', '2023-09-27 20:50:46')\n",
      "(5, 'Limp Bizkit', 'l/limpbizkit.html', '2023-09-27 20:50:46', '2023-09-27 20:50:46')\n",
      "(6, 'Linkin Park', 'l/linkinpark.html', '2023-09-27 20:50:46', '2023-09-27 20:50:46')\n",
      "(7, 'Gorillaz', 'g/gorillaz.html', '2023-09-27 20:50:46', '2023-09-27 20:50:46')\n",
      "(8, 'Led Zeppelin', 'l/ledzeppelin.html', '2023-09-27 20:50:46', '2023-09-27 20:50:46')\n",
      "(9, 'Audioslave', 'a/audioslave.html', '2023-09-27 20:50:46', '2023-09-27 20:50:46')\n",
      "(10, 'Living Colour', 'l/livingcolour.html', '2023-09-27 20:50:46', '2023-09-27 20:50:46')\n"
     ]
    }
   ],
   "source": [
    "%run py_utils/generic_utils.ipynb\n",
    "\n",
    "azlyrics_db = 'azlyrics_db'  \n",
    "artist_table = 'artist_table'  \n",
    "artist_path = f'../database/{azlyrics_db}.db' \n",
    "\n",
    "conn_artist = create_connection(artist_path)\n",
    "cur_artist = create_cursor(conn_artist)\n",
    "\n",
    "query = f\"\"\" create table if not exists {artist_table}(id INT AUTO_INCREMENT PRIMARY KEY, name VARCHAR, source VARCHAR, created_at DATETIME, \n",
    "                                        updated_at DATETIME, UNIQUE(id, name, source))\"\"\"\n",
    "cur_artist.execute(query)\n",
    "conn_artist.commit()\n",
    "\n",
    "try:\n",
    "    for i, artist in enumerate(artist_filter):\n",
    "        time_now = get_datetime() \n",
    "        query = f\"\"\"insert into {artist_table} values (?, ?, ?, ?, ?)\"\"\"\n",
    "        values = (i, artist_filter[i], artist_url[i], time_now, time_now)\n",
    "        cur_artist.execute(query, values)\n",
    "    conn_artist.commit()\n",
    "    \n",
    "except Exception as exc:\n",
    "    print(exc)\n",
    "    \n",
    "query = f\"\"\" select * from {artist_table} \"\"\"\n",
    "a = cur_artist.execute(query)\n",
    "for i in a:\n",
    "    print(i)\n",
    "conn_artist.close()\n",
    "\n"
   ]
  },
  {
   "cell_type": "code",
   "execution_count": null,
   "id": "d724449a",
   "metadata": {},
   "outputs": [],
   "source": []
  }
 ],
 "metadata": {
  "kernelspec": {
   "display_name": "Python 3 (ipykernel)",
   "language": "python",
   "name": "python3"
  },
  "language_info": {
   "codemirror_mode": {
    "name": "ipython",
    "version": 3
   },
   "file_extension": ".py",
   "mimetype": "text/x-python",
   "name": "python",
   "nbconvert_exporter": "python",
   "pygments_lexer": "ipython3",
   "version": "3.10.9"
  }
 },
 "nbformat": 4,
 "nbformat_minor": 5
}
