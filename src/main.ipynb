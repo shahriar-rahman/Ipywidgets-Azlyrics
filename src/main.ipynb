{
 "cells": [
  {
   "cell_type": "markdown",
   "id": "ba43e812",
   "metadata": {},
   "source": [
    "<span style=\"font-family:Lucida Sans Unicode; color:#a10a0a; font-size: 25px\"> Package Import </span>"
   ]
  },
  {
   "cell_type": "code",
   "execution_count": 1,
   "id": "1cb446d0",
   "metadata": {},
   "outputs": [],
   "source": [
    "import pandas as pd\n",
    "from bs4 import BeautifulSoup\n"
   ]
  },
  {
   "cell_type": "code",
   "execution_count": null,
   "id": "92a4174c",
   "metadata": {},
   "outputs": [],
   "source": [
    "# ipywidgets stuff"
   ]
  },
  {
   "cell_type": "markdown",
   "id": "446c6714",
   "metadata": {},
   "source": [
    "<span style=\"font-family:Lucida Sans Unicode; color:#a10a0a; font-size: 25px\"> Extract track data from artists </span>"
   ]
  },
  {
   "cell_type": "code",
   "execution_count": 11,
   "id": "98f47b50",
   "metadata": {},
   "outputs": [
    {
     "name": "stdout",
     "output_type": "stream",
     "text": [
      "> Json storage is successful.\n",
      "> Dataframe storage is successful.\n",
      "> Dataframe storage is successful.\n"
     ]
    }
   ],
   "source": [
    "%run crawlers/tracks_crawler.ipynb\n",
    "\n",
    "start_urls = ['https://www.azlyrics.com/l/linkinpark.html', 'https://www.azlyrics.com/m/metallica.html']\n",
    "tracks_crawler(start_urls)"
   ]
  },
  {
   "cell_type": "code",
   "execution_count": 2,
   "id": "949a588b",
   "metadata": {},
   "outputs": [],
   "source": [
    "# ipywidgets stuff"
   ]
  },
  {
   "cell_type": "markdown",
   "id": "26e64ac7",
   "metadata": {},
   "source": [
    "<span style=\"font-family:Lucida Sans Unicode; color:#a10a0a; font-size: 25px\"> Extract lyrics data from tracks </span>"
   ]
  },
  {
   "cell_type": "code",
   "execution_count": 5,
   "id": "5d57400a",
   "metadata": {},
   "outputs": [
    {
     "name": "stdout",
     "output_type": "stream",
     "text": [
      "3 3 3 3 3\n",
      "> Json storage is successful.\n",
      "> Dataframe storage is successful.\n",
      "> Dataframe storage is successful.\n"
     ]
    }
   ],
   "source": [
    "%run crawlers/lyrics_crawler.ipynb\n",
    "\n",
    "start_urls = ['https://www.azlyrics.com/lyrics/beatles/yellowsubmarine.html', \n",
    "              'https://www.azlyrics.com/lyrics/linkinpark/keystothekingdom.html', \n",
    "              'https://www.azlyrics.com/lyrics/beatles/1822.html']\n",
    "\n",
    "lyrics_crawler(start_urls)"
   ]
  },
  {
   "cell_type": "code",
   "execution_count": null,
   "id": "577730d8",
   "metadata": {},
   "outputs": [],
   "source": []
  }
 ],
 "metadata": {
  "kernelspec": {
   "display_name": "Python 3 (ipykernel)",
   "language": "python",
   "name": "python3"
  },
  "language_info": {
   "codemirror_mode": {
    "name": "ipython",
    "version": 3
   },
   "file_extension": ".py",
   "mimetype": "text/x-python",
   "name": "python",
   "nbconvert_exporter": "python",
   "pygments_lexer": "ipython3",
   "version": "3.10.9"
  }
 },
 "nbformat": 4,
 "nbformat_minor": 5
}
