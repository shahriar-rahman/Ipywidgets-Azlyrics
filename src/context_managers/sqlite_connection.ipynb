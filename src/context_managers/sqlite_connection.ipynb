{
 "cells": [
  {
   "cell_type": "code",
   "execution_count": 1,
   "id": "7cbdbb7a",
   "metadata": {},
   "outputs": [],
   "source": [
    "import sqlite3\n",
    "\n",
    "class SQLiteConnection:\n",
    "    def __init__(self, database_path):\n",
    "        self.database_path = database_path\n",
    "        self.connection = None\n",
    "        self.cursor = None\n",
    "\n",
    "    def __enter__(self):\n",
    "        try:\n",
    "            self.connection = sqlite3.connect(self.database_path)\n",
    "            self.cursor = self.connection.cursor()\n",
    "            return self.cursor\n",
    "        \n",
    "        except sqlite3.Error as e:\n",
    "            print(f\"Error connecting to SQLite database: {e}\")\n",
    "            return None\n",
    "\n",
    "    def __exit__(self, exc_type, exc_val, exc_tb):\n",
    "        if exc_type is not None:\n",
    "            print(f'an error occurred: {exc_val}')\n",
    "            self.connection.rollback() \n",
    "        else: \n",
    "            self.connection.commit()\n",
    "            \n",
    "        self.cursor.close()\n",
    "        self.connection.close()\n",
    "            "
   ]
  },
  {
   "cell_type": "code",
   "execution_count": null,
   "id": "351eb9a5",
   "metadata": {},
   "outputs": [],
   "source": []
  }
 ],
 "metadata": {
  "kernelspec": {
   "display_name": "Python 3 (ipykernel)",
   "language": "python",
   "name": "python3"
  },
  "language_info": {
   "codemirror_mode": {
    "name": "ipython",
    "version": 3
   },
   "file_extension": ".py",
   "mimetype": "text/x-python",
   "name": "python",
   "nbconvert_exporter": "python",
   "pygments_lexer": "ipython3",
   "version": "3.10.9"
  }
 },
 "nbformat": 4,
 "nbformat_minor": 5
}
