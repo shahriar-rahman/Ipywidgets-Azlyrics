{
 "cells": [
  {
   "cell_type": "markdown",
   "id": "8af6fb42",
   "metadata": {},
   "source": [
    "<span style=\"font-family:Lucida Sans Unicode; color:#a10a0a; font-size: 25px\"> ▼ Scrape Lyrics </span>"
   ]
  },
  {
   "cell_type": "code",
   "execution_count": null,
   "id": "2983743c",
   "metadata": {},
   "outputs": [],
   "source": [
    "import requests\n",
    "from bs4 import BeautifulSoup\n",
    "%run py_utils/scraping_utils.ipynb\n",
    "%run py_utils/generic_utils.ipynb\n",
    "\n",
    "def get_lyrics(start_url):  \n",
    "    lyrics_data = {}\n",
    "    div_key = 'div'\n",
    "    table_attr = {'class': 'col-xs-12'}\n",
    "    credits_attr = {'class': 'smt'}    \n",
    "    \n",
    "    print(\">> Scraping: {}\".format(start_url))\n",
    "    soup = get_request(start_url)  \n",
    "    find_table = bs4_scrape(soup, 'find', div_key, attr=table_attr)        \n",
    "    find_lists = bs4_scrape(find_table, 'findAll', div_key)\n",
    "    find_credits = bs4_scrape(find_table, 'findAll', div_key, attr=credits_attr) \n",
    "    lyrics = ''\n",
    "    for table in find_lists:    \n",
    "        if table.get('class') is None:   \n",
    "            lyrics += table.text.strip()          \n",
    "    credits = ''\n",
    "    for index in find_credits:\n",
    "        credits += index.text.strip()\n",
    "\n",
    "    lyrics_data = {'lyrics': lyrics, 'credits': credits}\n",
    "    return lyrics_data        \n",
    "\n"
   ]
  }
 ],
 "metadata": {
  "kernelspec": {
   "display_name": "Python 3 (ipykernel)",
   "language": "python",
   "name": "python3"
  },
  "language_info": {
   "codemirror_mode": {
    "name": "ipython",
    "version": 3
   },
   "file_extension": ".py",
   "mimetype": "text/x-python",
   "name": "python",
   "nbconvert_exporter": "python",
   "pygments_lexer": "ipython3",
   "version": "3.10.9"
  }
 },
 "nbformat": 4,
 "nbformat_minor": 5
}
