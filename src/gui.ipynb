{
 "cells": [
  {
   "cell_type": "markdown",
   "id": "2fb5b9a7",
   "metadata": {},
   "source": [
    "<span style=\"font-family:Lucida Sans Unicode; color:#a10a0a; font-size: 25px\"> Load all Artists </span>"
   ]
  },
  {
   "cell_type": "code",
   "execution_count": 25,
   "id": "0df9cf17",
   "metadata": {},
   "outputs": [],
   "source": [
    "%run main.ipynb\n",
    "\n",
    "all_artists = load_artist_from_json()"
   ]
  },
  {
   "cell_type": "markdown",
   "id": "e6b5b5bb",
   "metadata": {},
   "source": [
    "<span style=\"font-family:Lucida Sans Unicode; color:#a10a0a; font-size: 25px\"> Select Artists </span>"
   ]
  },
  {
   "cell_type": "code",
   "execution_count": 26,
   "id": "64fe4de4",
   "metadata": {},
   "outputs": [
    {
     "data": {
      "application/vnd.jupyter.widget-view+json": {
       "model_id": "c97bc9352201417f8ee5e5ad21e06b38",
       "version_major": 2,
       "version_minor": 0
      },
      "text/plain": [
       "VBox(children=(Output(), HBox(children=(Dropdown(description='Alphabet', layout=Layout(width='300px'), options…"
      ]
     },
     "metadata": {},
     "output_type": "display_data"
    }
   ],
   "source": [
    "%run main.ipynb\n",
    "\n",
    "user_selection = get_artists()"
   ]
  },
  {
   "cell_type": "code",
   "execution_count": 27,
   "id": "7e87ee79",
   "metadata": {},
   "outputs": [
    {
     "data": {
      "text/plain": [
       "['Metallica']"
      ]
     },
     "execution_count": 27,
     "metadata": {},
     "output_type": "execute_result"
    }
   ],
   "source": [
    "user_selection"
   ]
  },
  {
   "cell_type": "markdown",
   "id": "9676258f",
   "metadata": {},
   "source": [
    "<span style=\"font-family:Lucida Sans Unicode; color:#a10a0a; font-size: 25px\"> Scrape Artist page </span>"
   ]
  },
  {
   "cell_type": "code",
   "execution_count": 28,
   "id": "73b86847",
   "metadata": {},
   "outputs": [
    {
     "name": "stdout",
     "output_type": "stream",
     "text": [
      "> Database Storage Successful.\n",
      "> Json storage is successful.\n",
      "> Dataframe storage is successful.\n",
      "> Dataframe storage is successful.\n"
     ]
    }
   ],
   "source": [
    "%run main.ipynb\n",
    "\n",
    "start_urls = search_dict(user_selection, all_artists)\n",
    "run_tracks_crawler(start_urls, user_selection)"
   ]
  },
  {
   "cell_type": "markdown",
   "id": "0bbad46c",
   "metadata": {},
   "source": [
    "<span style=\"font-family:Lucida Sans Unicode; color:#a10a0a; font-size: 25px\"> Select Albums and Tracks </span>"
   ]
  },
  {
   "cell_type": "code",
   "execution_count": 29,
   "id": "99ea6e5f",
   "metadata": {},
   "outputs": [
    {
     "data": {
      "application/vnd.jupyter.widget-view+json": {
       "model_id": "3fa0557795bc40a1be156ce7fc8c916e",
       "version_major": 2,
       "version_minor": 0
      },
      "text/plain": [
       "VBox(children=(HBox(children=(Dropdown(description='Select Artists', layout=Layout(width='350px'), options=('M…"
      ]
     },
     "metadata": {},
     "output_type": "display_data"
    }
   ],
   "source": [
    "%run main.ipynb\n",
    "\n",
    "discography = load_discography()\n",
    "user_track, user_artist, user_album = get_discography()"
   ]
  },
  {
   "cell_type": "code",
   "execution_count": 30,
   "id": "6e2603c8",
   "metadata": {},
   "outputs": [
    {
     "data": {
      "text/plain": [
       "['Fight Fire With Fire', 'One', 'Fuel']"
      ]
     },
     "execution_count": 30,
     "metadata": {},
     "output_type": "execute_result"
    }
   ],
   "source": [
    "user_track "
   ]
  },
  {
   "cell_type": "markdown",
   "id": "1d14e92c",
   "metadata": {},
   "source": [
    "<span style=\"font-family:Lucida Sans Unicode; color:#a10a0a; font-size: 25px\"> Scrape Tracks</span>"
   ]
  },
  {
   "cell_type": "code",
   "execution_count": 31,
   "id": "c03b9280",
   "metadata": {},
   "outputs": [
    {
     "name": "stdout",
     "output_type": "stream",
     "text": [
      "['Fight Fire With Fire', 'One', 'Fuel']\n",
      "> Database Storage Successful.\n",
      "> Json storage is successful.\n",
      "> Dataframe storage is successful.\n",
      "> Dataframe storage is successful.\n"
     ]
    }
   ],
   "source": [
    "%run main.ipynb\n",
    "\n",
    "start_urls = generate_urls(user_track)\n",
    "lyrics_scrape(start_urls, user_track)"
   ]
  },
  {
   "cell_type": "markdown",
   "id": "4e10611c",
   "metadata": {},
   "source": [
    "<span style=\"font-family:Lucida Sans Unicode; color:#a10a0a; font-size: 25px\"> Select Lyrics </span>"
   ]
  },
  {
   "cell_type": "code",
   "execution_count": 32,
   "id": "ae915f41",
   "metadata": {},
   "outputs": [
    {
     "data": {
      "application/vnd.jupyter.widget-view+json": {
       "model_id": "3d257ef4764b4a54bd27dc640b678e90",
       "version_major": 2,
       "version_minor": 0
      },
      "text/plain": [
       "VBox(children=(HBox(children=(Dropdown(description='Select Tracks', layout=Layout(width='400px'), options=('\"O…"
      ]
     },
     "metadata": {},
     "output_type": "display_data"
    }
   ],
   "source": [
    "%run main.ipynb\n",
    "\n",
    "track_lyrics = load_lyrics()\n",
    "get_lyrics(track_lyrics, user_track)"
   ]
  },
  {
   "cell_type": "markdown",
   "id": "ae0780ff",
   "metadata": {},
   "source": [
    "<span style=\"font-family:Lucida Sans Unicode; color:#a10a0a; font-size: 25px\"> Check Database </span>"
   ]
  },
  {
   "cell_type": "code",
   "execution_count": 33,
   "id": "186bec03",
   "metadata": {},
   "outputs": [
    {
     "name": "stdout",
     "output_type": "stream",
     "text": [
      "['\\nAvenged Sevenfold Lyrics\\n', '\\nU2 Lyrics\\n', '\\nMetallica Lyrics\\n']\n"
     ]
    }
   ],
   "source": [
    "%run main.ipynb\n",
    "\n",
    "db_soundtracks = 'db_soundtracks'\n",
    "soundtrack_table = 'soundtrack_table'\n",
    "\n",
    "db_lyrics = 'db_lyrics'\n",
    "lyrics_table = 'lyrics_table'\n",
    "\n",
    "db_path = '../database/'\n",
    "column_index = 2\n",
    "\n",
    "try:\n",
    "    diagnose_db(db_lyrics, lyrics_table, column_index, db_path)\n",
    "except Exception as exc:\n",
    "    print(exc)\n"
   ]
  },
  {
   "cell_type": "code",
   "execution_count": null,
   "id": "39416e55",
   "metadata": {},
   "outputs": [],
   "source": []
  }
 ],
 "metadata": {
  "kernelspec": {
   "display_name": "Python 3 (ipykernel)",
   "language": "python",
   "name": "python3"
  },
  "language_info": {
   "codemirror_mode": {
    "name": "ipython",
    "version": 3
   },
   "file_extension": ".py",
   "mimetype": "text/x-python",
   "name": "python",
   "nbconvert_exporter": "python",
   "pygments_lexer": "ipython3",
   "version": "3.10.9"
  }
 },
 "nbformat": 4,
 "nbformat_minor": 5
}
