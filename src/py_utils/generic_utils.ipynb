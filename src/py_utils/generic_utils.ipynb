{
 "cells": [
  {
   "cell_type": "markdown",
   "id": "07b3dddc",
   "metadata": {},
   "source": [
    "<span style=\"font-family:Lucida Sans Unicode; color:#a10a0a; font-size: 25px\"> Package Import </span>"
   ]
  },
  {
   "cell_type": "code",
   "execution_count": 1,
   "id": "f89e3e42",
   "metadata": {},
   "outputs": [],
   "source": [
    "import json\n",
    "import pendulum\n",
    "import pandas as pd\n"
   ]
  },
  {
   "cell_type": "markdown",
   "id": "a1da08de",
   "metadata": {},
   "source": [
    "<span style=\"font-family:Lucida Sans Unicode; color:#a10a0a; font-size: 25px\"> Create a dictionary </span>"
   ]
  },
  {
   "cell_type": "code",
   "execution_count": 7,
   "id": "9667c75c",
   "metadata": {},
   "outputs": [],
   "source": [
    "def create_dict(key_list, values_list):\n",
    "    new_dict = {}\n",
    "\n",
    "    for i in range(len(key_list)):\n",
    "        new_dict[key_list[i]] = values_list[i]\n",
    "\n",
    "    return new_dict"
   ]
  },
  {
   "cell_type": "markdown",
   "id": "2733a524",
   "metadata": {},
   "source": [
    "<span style=\"font-family:Lucida Sans Unicode; color:#a10a0a; font-size: 25px\"> Save JSON File to Memory </span>"
   ]
  },
  {
   "cell_type": "code",
   "execution_count": 8,
   "id": "b688cbaf",
   "metadata": {},
   "outputs": [],
   "source": [
    "def save_json(file_path, data_dict):\n",
    "    try:\n",
    "        with open(file_path, 'w') as file:\n",
    "            json.dump(data_dict, file)\n",
    "\n",
    "    except Exception as exc:\n",
    "        print(f\"! Failed to save data. !\\n\", exc)\n",
    "\n",
    "    else:\n",
    "        print(\"> Json storage is successful.\")"
   ]
  },
  {
   "cell_type": "markdown",
   "id": "6363a109",
   "metadata": {},
   "source": [
    "<span style=\"font-family:Lucida Sans Unicode; color:#a10a0a; font-size: 25px\"> Store Dataframe to Memory </span>"
   ]
  },
  {
   "cell_type": "code",
   "execution_count": 9,
   "id": "47b618a0",
   "metadata": {},
   "outputs": [],
   "source": [
    "def save_df(df, path, ext):\n",
    "    try:\n",
    "        if ext == 'csv':\n",
    "            df.to_csv(path, sep=',')\n",
    "\n",
    "        elif ext == 'xlsx':\n",
    "            df.to_excel(path)\n",
    "\n",
    "    except Exception as exc:\n",
    "        print(f\"! Failed to save data. !\\n\", exc)\n",
    "\n",
    "    else:\n",
    "        print(\"> Dataframe storage is successful.\")\n"
   ]
  },
  {
   "cell_type": "markdown",
   "id": "433a5516",
   "metadata": {},
   "source": [
    "<span style=\"font-family:Lucida Sans Unicode; color:#a10a0a; font-size: 25px\"> Debug Function </span>"
   ]
  },
  {
   "cell_type": "code",
   "execution_count": 10,
   "id": "ee41783e",
   "metadata": {},
   "outputs": [],
   "source": [
    "def lists_debug(tracks, artists, albums, urls):\n",
    "    for index in range(len(tracks)):\n",
    "        print(tracks[index], ' - ', artists[index], ' - ', albums[index], ' - ', urls[index])    \n"
   ]
  },
  {
   "cell_type": "markdown",
   "id": "f6238419",
   "metadata": {},
   "source": [
    "<span style=\"font-family:Lucida Sans Unicode; color:#a10a0a; font-size: 25px\"> Load a JSON File from Memory </span>"
   ]
  },
  {
   "cell_type": "code",
   "execution_count": 11,
   "id": "c8a38c6b",
   "metadata": {},
   "outputs": [],
   "source": [
    "def load_json(json_path):\n",
    "    json_file = open(json_path) \n",
    "    data = json.load(json_file)\n",
    "    return data\n",
    "    "
   ]
  },
  {
   "cell_type": "markdown",
   "id": "0ef6e3c7",
   "metadata": {},
   "source": [
    "<span style=\"font-family:Lucida Sans Unicode; color:#a10a0a; font-size: 25px\"> Get Datetime </span>"
   ]
  },
  {
   "cell_type": "code",
   "execution_count": 8,
   "id": "195141bb",
   "metadata": {},
   "outputs": [],
   "source": [
    "def get_datetime():\n",
    "    utc_time = pendulum.now('UTC')\n",
    "    utc_datetime = utc_time.to_datetime_string()    \n",
    "    return utc_datetime"
   ]
  }
 ],
 "metadata": {
  "kernelspec": {
   "display_name": "Python 3 (ipykernel)",
   "language": "python",
   "name": "python3"
  },
  "language_info": {
   "codemirror_mode": {
    "name": "ipython",
    "version": 3
   },
   "file_extension": ".py",
   "mimetype": "text/x-python",
   "name": "python",
   "nbconvert_exporter": "python",
   "pygments_lexer": "ipython3",
   "version": "3.10.9"
  }
 },
 "nbformat": 4,
 "nbformat_minor": 5
}
