{
 "cells": [
  {
   "cell_type": "code",
   "execution_count": 1,
   "id": "8e669df6",
   "metadata": {},
   "outputs": [],
   "source": [
    "# !pip install bs4\n",
    "# !pip install requests\n",
    "# !pip install pandas\n"
   ]
  },
  {
   "cell_type": "code",
   "execution_count": 23,
   "id": "0e006dfa",
   "metadata": {},
   "outputs": [],
   "source": [
    "from bs4 import BeautifulSoup\n",
    "import requests\n",
    "import pandas as pd\n",
    "\n",
    "# %run ../py_utils/scraping_utils.ipynb"
   ]
  },
  {
   "cell_type": "code",
   "execution_count": 21,
   "id": "f5988217",
   "metadata": {},
   "outputs": [],
   "source": [
    "%run py_utils/scraping_utils.ipynb\n",
    "%run py_utils/generic_utils.ipynb\n",
    "\n",
    "def track_crawler():\n",
    "    a_key = 'a'\n",
    "    div_key = 'div'\n",
    "    artist_key = 'title'\n",
    "\n",
    "    href_attr = {'class': 'listalbum-item'}\n",
    "    album_attr = {'class': 'album'}\n",
    "    tracks_table = {'id': 'listAlbum'}\n",
    "    album_class = ['album']\n",
    "    track_class = ['listalbum-item']\n",
    "    \n",
    "    start_urls = ['https://www.azlyrics.com/l/linkinpark.html']\n",
    "    \n",
    "    \n",
    "\n",
    "    for url in start_urls:\n",
    "        req = requests.get(url)\n",
    "        soup = BeautifulSoup(req.text, 'lxml')\n",
    "\n",
    "        find_table = bs4_scrape(soup, 'find', div_key, tracks_table)\n",
    "        find_lists = bs4_scrape(find_table, 'findAll', div_key)    \n",
    "        artist_name = bs4_scrape(soup, 'find', artist_key).text\n",
    "\n",
    "        tracks, artists, albums, urls = get_track_info(find_lists, album_class, track_class, artist_name, a_key)\n",
    "\n",
    "    lists_debug(tracks, artists, albums, urls)    \n",
    "\n",
    "    json_file_path = '../datasets/track_info_dict.json'\n",
    "    excel_file_path = '../datasets/discography_data.xlsx'\n",
    "    csv_file_path = '../datasets/discography_data.csv'\n",
    "\n",
    "    key_list = ['Tracks', 'Artists', 'Albums', 'URLs']\n",
    "    values_list = [tracks, artists, albums, urls]\n",
    "    track_info_dict = create_dict(key_list, values_list)\n",
    "    df = pd.DataFrame(track_info_dict, columns=key_list)\n",
    "\n",
    "    save_json(json_file_path, track_info_dict)\n",
    "    save_df(df, excel_file_path, 'xlsx')\n",
    "    save_df(df, csv_file_path, 'csv')\n",
    "\n",
    "    "
   ]
  },
  {
   "cell_type": "code",
   "execution_count": 3,
   "id": "faa760dd",
   "metadata": {},
   "outputs": [],
   "source": []
  },
  {
   "cell_type": "code",
   "execution_count": 4,
   "id": "cae6fb48",
   "metadata": {},
   "outputs": [],
   "source": []
  },
  {
   "cell_type": "code",
   "execution_count": 5,
   "id": "1dbf9454",
   "metadata": {},
   "outputs": [],
   "source": []
  },
  {
   "cell_type": "code",
   "execution_count": null,
   "id": "aa277fed",
   "metadata": {},
   "outputs": [],
   "source": []
  },
  {
   "cell_type": "code",
   "execution_count": 19,
   "id": "671f4fb2",
   "metadata": {},
   "outputs": [
    {
     "name": "stdout",
     "output_type": "stream",
     "text": [
      "> Json storage is successful.\n",
      "> Dataframe storage is successful.\n",
      "> Dataframe storage is successful.\n"
     ]
    }
   ],
   "source": []
  },
  {
   "cell_type": "code",
   "execution_count": null,
   "id": "6c0037f9",
   "metadata": {},
   "outputs": [],
   "source": []
  }
 ],
 "metadata": {
  "kernelspec": {
   "display_name": "Python 3 (ipykernel)",
   "language": "python",
   "name": "python3"
  },
  "language_info": {
   "codemirror_mode": {
    "name": "ipython",
    "version": 3
   },
   "file_extension": ".py",
   "mimetype": "text/x-python",
   "name": "python",
   "nbconvert_exporter": "python",
   "pygments_lexer": "ipython3",
   "version": "3.10.9"
  }
 },
 "nbformat": 4,
 "nbformat_minor": 5
}
