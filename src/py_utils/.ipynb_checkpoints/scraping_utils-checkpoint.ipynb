{
 "cells": [
  {
   "cell_type": "markdown",
   "id": "cc6c0a73",
   "metadata": {},
   "source": [
    "<span style=\"font-family:Lucida Sans Unicode; color:#a10a0a; font-size: 25px\"> Package Import </span>"
   ]
  },
  {
   "cell_type": "code",
   "execution_count": 7,
   "id": "59ce4f70",
   "metadata": {},
   "outputs": [],
   "source": [
    "from bs4 import BeautifulSoup\n",
    "import bs4"
   ]
  },
  {
   "cell_type": "markdown",
   "id": "3f4d16cd",
   "metadata": {},
   "source": [
    "<span style=\"font-family:Lucida Sans Unicode; color:#a10a0a; font-size: 25px\"> Generic Scraping </span>"
   ]
  },
  {
   "cell_type": "code",
   "execution_count": 6,
   "id": "3c5e9559",
   "metadata": {},
   "outputs": [],
   "source": [
    "def bs4_scrape(soup, selector, keyword, attr=False):\n",
    "    if not isinstance(soup, (bs4.BeautifulSoup, bs4.element.Tag, bs4.element.ResultSet)):\n",
    "        raise ValueError(\n",
    "            f\"Invalid object type provided as 'soup': {type(soup)}. Expected: bs4.BeautifulSoup or Tag.\")\n",
    "\n",
    "    try:\n",
    "        if selector in {'findAll', 'find_all', 'find', 'find_next', 'findNext'}:\n",
    "            if attr:\n",
    "                data = getattr(soup, selector)(keyword, attrs=attr)\n",
    "            else:\n",
    "                data = getattr(soup, selector)(keyword)\n",
    "            return data\n",
    "\n",
    "    except Exception as exc:\n",
    "        print(f\"Error during scraping: {exc}\")\n",
    "\n",
    "    return None\n"
   ]
  },
  {
   "cell_type": "markdown",
   "id": "bf9fa89c",
   "metadata": {},
   "source": [
    "<span style=\"font-family:Lucida Sans Unicode; color:#a10a0a; font-size: 25px\"> Acquire Track Information </span>"
   ]
  },
  {
   "cell_type": "code",
   "execution_count": 5,
   "id": "078732bf",
   "metadata": {},
   "outputs": [],
   "source": [
    "def get_track_info(find_lists, album_class, track_class, artist_name, a_key):        \n",
    "    tracks = []\n",
    "    albums = []  \n",
    "    urls = []\n",
    "    artists = []\n",
    "    \n",
    "    for row_list in find_lists:  \n",
    "        get_class = row_list.get('class')\n",
    "\n",
    "        if get_class == album_class:\n",
    "            current_album = row_list.text      \n",
    "            current_album = current_album.replace(\"'\", \"\")\n",
    "\n",
    "        elif get_class == track_class:\n",
    "            track = row_list.text                \n",
    "            track = track.replace(\"'\", \"\")\n",
    "\n",
    "            url_tag = bs4_scrape(row_list, 'find', a_key)        \n",
    "            if url_tag is not None:\n",
    "                url = url_tag.get('href') \n",
    "            else:\n",
    "                url = ''\n",
    "\n",
    "            tracks.append(track)\n",
    "            artists.append(artist_name)\n",
    "            urls.append(url)\n",
    "            \n",
    "            try: \n",
    "                albums.append(current_album)\n",
    "                \n",
    "            except Exception as exc:\n",
    "                albums.append('others')    \n",
    "    \n",
    "    return tracks, artists, albums, urls\n",
    "\n"
   ]
  },
  {
   "cell_type": "code",
   "execution_count": null,
   "id": "d5f7b18a",
   "metadata": {},
   "outputs": [],
   "source": []
  }
 ],
 "metadata": {
  "kernelspec": {
   "display_name": "Python 3 (ipykernel)",
   "language": "python",
   "name": "python3"
  },
  "language_info": {
   "codemirror_mode": {
    "name": "ipython",
    "version": 3
   },
   "file_extension": ".py",
   "mimetype": "text/x-python",
   "name": "python",
   "nbconvert_exporter": "python",
   "pygments_lexer": "ipython3",
   "version": "3.10.9"
  }
 },
 "nbformat": 4,
 "nbformat_minor": 5
}
