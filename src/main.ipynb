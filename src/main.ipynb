{
 "cells": [
  {
   "cell_type": "markdown",
   "id": "ba43e812",
   "metadata": {},
   "source": [
    "<span style=\"font-family:Lucida Sans Unicode; color:#a10a0a; font-size: 25px\"> Package Import </span>"
   ]
  },
  {
   "cell_type": "code",
   "execution_count": 233,
   "id": "1cb446d0",
   "metadata": {},
   "outputs": [],
   "source": [
    "import pandas as pd\n",
    "from bs4 import BeautifulSoup\n",
    "import ipywidgets as widgets\n",
    "from IPython.display import display, clear_output\n",
    "from datetime import datetime\n"
   ]
  },
  {
   "cell_type": "markdown",
   "id": "81284fc0",
   "metadata": {},
   "source": [
    "<span style=\"font-family:Lucida Sans Unicode; color:#a10a0a; font-size: 25px\"> User Text Box </span>"
   ]
  },
  {
   "cell_type": "code",
   "execution_count": 234,
   "id": "92a4174c",
   "metadata": {},
   "outputs": [],
   "source": [
    "button_artist = widgets.Button(description=\"Select\")\n",
    "inp_artist = widgets.Text(description='Artist/Band')\n",
    "box_get_artist = widgets.VBox([button_artist, inp_artist])\n",
    "\n",
    "input_artist = []\n",
    "input_history = []\n",
    "\n",
    "def on_button_clicked(text_input):\n",
    "    input_artist.append(inp_artist.value)\n",
    "    input_history.append(f'{datetime.now()}')\n",
    "    print(inp_artist.value, 'selected.')\n",
    "    inp_artist.value = ''    \n",
    "    \n",
    "button_artist.on_click(on_button_clicked)\n"
   ]
  },
  {
   "cell_type": "code",
   "execution_count": 235,
   "id": "d7be6763",
   "metadata": {},
   "outputs": [
    {
     "data": {
      "application/vnd.jupyter.widget-view+json": {
       "model_id": "33c84f3cc0e24093af32c3508fac5d57",
       "version_major": 2,
       "version_minor": 0
      },
      "text/plain": [
       "VBox(children=(VBox(children=(Button(description='Select', style=ButtonStyle()), Text(value='', description='A…"
      ]
     },
     "metadata": {},
     "output_type": "display_data"
    },
    {
     "name": "stdout",
     "output_type": "stream",
     "text": [
      "Metallica selected.\n",
      "Linkin Park selected.\n",
      "InvalidArtistName selected.\n"
     ]
    }
   ],
   "source": [
    "widgets.VBox([box_get_artist])\n"
   ]
  },
  {
   "cell_type": "code",
   "execution_count": 236,
   "id": "eb2dd4ef",
   "metadata": {},
   "outputs": [
    {
     "name": "stdout",
     "output_type": "stream",
     "text": [
      "['Metallica', 'Linkin Park', 'InvalidArtistName']\n",
      "['2023-09-09 03:58:13.918608', '2023-09-09 03:58:15.671894', '2023-09-09 03:58:37.933679']\n"
     ]
    }
   ],
   "source": [
    "print(input_artist)\n",
    "print(input_history)\n"
   ]
  },
  {
   "cell_type": "markdown",
   "id": "42de7bb1",
   "metadata": {},
   "source": [
    "<span style=\"font-family:Lucida Sans Unicode; color:#a10a0a; font-size: 25px\"> Search dictionary and store relevant URLs </span>"
   ]
  },
  {
   "cell_type": "code",
   "execution_count": 237,
   "id": "78362660",
   "metadata": {},
   "outputs": [
    {
     "name": "stdout",
     "output_type": "stream",
     "text": [
      "InvalidArtistName does not exist in the library.\n"
     ]
    }
   ],
   "source": [
    "%run py_utils/generic_utils.ipynb\n",
    "\n",
    "start_urls = []\n",
    "root_url = 'https://www.azlyrics.com/'\n",
    "path = '../datasets/artists_data.json'\n",
    "all_artists = load_json(path)\n",
    "\n",
    "for artist in input_artist:\n",
    "    if artist in all_artists['Artists']:\n",
    "        start_urls.append(root_url+all_artists['Artists'][artist])\n",
    "        \n",
    "    else:\n",
    "        print(f'{artist} does not exist in the library.')\n",
    "        input_artist.remove(artist)\n"
   ]
  },
  {
   "cell_type": "code",
   "execution_count": 238,
   "id": "2e7d286b",
   "metadata": {},
   "outputs": [
    {
     "data": {
      "text/plain": [
       "['https://www.azlyrics.com/m/metallica.html',\n",
       " 'https://www.azlyrics.com/l/linkinpark.html']"
      ]
     },
     "execution_count": 238,
     "metadata": {},
     "output_type": "execute_result"
    }
   ],
   "source": [
    "start_urls"
   ]
  },
  {
   "cell_type": "markdown",
   "id": "446c6714",
   "metadata": {},
   "source": [
    "<span style=\"font-family:Lucida Sans Unicode; color:#a10a0a; font-size: 25px\"> Extract track data from artists </span>"
   ]
  },
  {
   "cell_type": "code",
   "execution_count": 239,
   "id": "98f47b50",
   "metadata": {},
   "outputs": [
    {
     "name": "stdout",
     "output_type": "stream",
     "text": [
      "> Json storage is successful.\n",
      "> Dataframe storage is successful.\n",
      "> Dataframe storage is successful.\n"
     ]
    }
   ],
   "source": [
    "%run crawlers/tracks_crawler.ipynb\n",
    "\n",
    "tracks_crawler(start_urls)"
   ]
  },
  {
   "cell_type": "code",
   "execution_count": 240,
   "id": "949a588b",
   "metadata": {},
   "outputs": [],
   "source": [
    "json_path = '../datasets/discography_data.json'\n",
    "discography = load_json(json_path)\n"
   ]
  },
  {
   "cell_type": "code",
   "execution_count": null,
   "id": "e831e52a",
   "metadata": {},
   "outputs": [],
   "source": [
    "###"
   ]
  },
  {
   "cell_type": "code",
   "execution_count": 241,
   "id": "76e4b499",
   "metadata": {},
   "outputs": [],
   "source": [
    "# WIP - EXPERIMENTAL/DUMMY CODE !!!\n",
    "def display_tracks():\n",
    "    artist_dropdown = widgets.SelectMultiple(\n",
    "        options=discography['Tracks'],\n",
    "        value=[],\n",
    "        description=\"Select Tracks\",\n",
    "        rows=len(discography['Tracks'])  \n",
    "    )   \n",
    "    \n",
    "    artist_selection = widgets.VBox([artist_dropdown])\n",
    "    display(artist_selection)\n",
    "            "
   ]
  },
  {
   "cell_type": "code",
   "execution_count": 242,
   "id": "99addcce",
   "metadata": {},
   "outputs": [
    {
     "data": {
      "application/vnd.jupyter.widget-view+json": {
       "model_id": "1a52be2af48c44a9ba8e82722939eaf6",
       "version_major": 2,
       "version_minor": 0
      },
      "text/plain": [
       "VBox(children=(SelectMultiple(description='Select Tracks', options=('Hit The Lights', 'The Four Horsemen', 'Mo…"
      ]
     },
     "metadata": {},
     "output_type": "display_data"
    }
   ],
   "source": [
    "display_tracks()"
   ]
  },
  {
   "cell_type": "code",
   "execution_count": null,
   "id": "e13d28d4",
   "metadata": {},
   "outputs": [],
   "source": [
    "###"
   ]
  },
  {
   "cell_type": "markdown",
   "id": "26e64ac7",
   "metadata": {},
   "source": [
    "<span style=\"font-family:Lucida Sans Unicode; color:#a10a0a; font-size: 25px\"> Extract lyrics data from tracks </span>"
   ]
  },
  {
   "cell_type": "code",
   "execution_count": 5,
   "id": "5d57400a",
   "metadata": {},
   "outputs": [
    {
     "name": "stdout",
     "output_type": "stream",
     "text": [
      "3 3 3 3 3\n",
      "> Json storage is successful.\n",
      "> Dataframe storage is successful.\n",
      "> Dataframe storage is successful.\n"
     ]
    }
   ],
   "source": [
    "%run crawlers/lyrics_crawler.ipynb\n",
    "\n",
    "start_urls = ['https://www.azlyrics.com/lyrics/beatles/yellowsubmarine.html', \n",
    "              'https://www.azlyrics.com/lyrics/linkinpark/keystothekingdom.html', \n",
    "              'https://www.azlyrics.com/lyrics/beatles/1822.html']\n",
    "\n",
    "lyrics_crawler(start_urls)"
   ]
  },
  {
   "cell_type": "code",
   "execution_count": null,
   "id": "577730d8",
   "metadata": {},
   "outputs": [],
   "source": []
  },
  {
   "cell_type": "code",
   "execution_count": null,
   "id": "cd0cd06e",
   "metadata": {},
   "outputs": [],
   "source": []
  }
 ],
 "metadata": {
  "kernelspec": {
   "display_name": "Python 3 (ipykernel)",
   "language": "python",
   "name": "python3"
  },
  "language_info": {
   "codemirror_mode": {
    "name": "ipython",
    "version": 3
   },
   "file_extension": ".py",
   "mimetype": "text/x-python",
   "name": "python",
   "nbconvert_exporter": "python",
   "pygments_lexer": "ipython3",
   "version": "3.10.9"
  }
 },
 "nbformat": 4,
 "nbformat_minor": 5
}
